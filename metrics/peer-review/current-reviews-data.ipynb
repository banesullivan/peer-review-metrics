{
 "cells": [
  {
   "cell_type": "markdown",
   "metadata": {
    "editable": true,
    "slideshow": {
     "slide_type": ""
    },
    "tags": []
   },
   "source": [
    "---\n",
    "title: Current Software Review Stats\n",
    "subtitle: pyOpenSci Peer Review Summary Stats\n",
    "license:\n",
    "  code: BSD-3-Clause\n",
    "---\n",
    "\n",
    "This is a workflow that colates all GitHub issues associated with our reviews. "
   ]
  },
  {
   "cell_type": "code",
   "execution_count": 1,
   "metadata": {
    "editable": true,
    "execution": {
     "iopub.execute_input": "2024-12-19T18:47:14.418974Z",
     "iopub.status.busy": "2024-12-19T18:47:14.418517Z",
     "iopub.status.idle": "2024-12-19T18:47:15.205404Z",
     "shell.execute_reply": "2024-12-19T18:47:15.204805Z",
     "shell.execute_reply.started": "2024-12-19T18:47:14.418953Z"
    },
    "slideshow": {
     "slide_type": ""
    },
    "tags": [
     "remove-input"
    ]
   },
   "outputs": [],
   "source": [
    "# https://github.com/ryantam626/jupyterlab_code_formatter\n",
    "import warnings\n",
    "from datetime import datetime, timezone\n",
    "\n",
    "import altair as alt\n",
    "import pandas as pd\n",
    "import pytz\n",
    "from pyosmeta import ProcessIssues\n",
    "from pyosmeta.github_api import GitHubAPI\n",
    "\n",
    "from pyosmetrics.functions import count_edits_by_quarter\n",
    "\n",
    "# Suppress all warnings\n",
    "warnings.filterwarnings(\"ignore\")"
   ]
  },
  {
   "cell_type": "code",
   "execution_count": 2,
   "metadata": {
    "editable": true,
    "execution": {
     "iopub.execute_input": "2024-12-19T18:47:15.206343Z",
     "iopub.status.busy": "2024-12-19T18:47:15.206030Z",
     "iopub.status.idle": "2024-12-19T18:47:15.209421Z",
     "shell.execute_reply": "2024-12-19T18:47:15.208880Z",
     "shell.execute_reply.started": "2024-12-19T18:47:15.206323Z"
    },
    "slideshow": {
     "slide_type": ""
    },
    "tags": [
     "remove-input"
    ]
   },
   "outputs": [],
   "source": [
    "# Open Reviews"
   ]
  },
  {
   "cell_type": "code",
   "execution_count": 3,
   "metadata": {
    "editable": true,
    "execution": {
     "iopub.execute_input": "2024-12-19T18:47:15.211292Z",
     "iopub.status.busy": "2024-12-19T18:47:15.211057Z",
     "iopub.status.idle": "2024-12-19T18:47:18.035807Z",
     "shell.execute_reply": "2024-12-19T18:47:18.034095Z",
     "shell.execute_reply.started": "2024-12-19T18:47:15.211273Z"
    },
    "slideshow": {
     "slide_type": ""
    },
    "tags": [
     "remove-input"
    ]
   },
   "outputs": [],
   "source": [
    "# Get a list of reviews submitted to us\n",
    "# This potentially doesn't include issues that were deemed out of scope...\n",
    "github_api = GitHubAPI(\n",
    "    org=\"pyopensci\",\n",
    "    repo=\"software-submission\",\n",
    "    labels=[\n",
    "        \"0/seeking-editor\",\n",
    "        \"1/editor-assigned\",\n",
    "        \"2/seeking-reviewers\",\n",
    "        \"3/reviewers-assigned\",\n",
    "        \"4/reviews-in-awaiting-changes\",\n",
    "        \"5/awaiting-reviewer-response\",\n",
    "        \"7/under-joss-review\",\n",
    "        \"8/joss-review-complete\",\n",
    "        \"New Submission!\",\n",
    "    ],\n",
    ")\n",
    "process_review = ProcessIssues(github_api)\n",
    "issues = process_review.get_issues()\n",
    "reviews, errors = process_review.parse_issues(issues)\n",
    "review_table = [\n",
    "    {\n",
    "        \"package_name\": name,\n",
    "        \"created_at\": review.created_at,\n",
    "        \"date_closed\": review.closed_at,\n",
    "        \"editor\": review.editor.github_username,\n",
    "        # \"editor\": review.editor.name,\n",
    "        \"labels\": review.labels,\n",
    "    }\n",
    "    for name, review in reviews.items()\n",
    "]\n",
    "\n",
    "reviews_df = pd.DataFrame(review_table)\n",
    "open_reviews = reviews_df[reviews_df[\"date_closed\"].isna()]\n",
    "\n",
    "today = datetime.now(timezone.utc)\n",
    "open_reviews[\"days_open\"] = (today - open_reviews[\"created_at\"]).dt.days\n",
    "open_reviews.drop(columns=[\"date_closed\"], inplace=True)\n",
    "open_reviews[\"created_at\"] = open_reviews[\"created_at\"].dt.date\n",
    "total_open = len(open_reviews)"
   ]
  },
  {
   "cell_type": "markdown",
   "metadata": {
    "editable": true,
    "slideshow": {
     "slide_type": ""
    },
    "tags": [],
    "user_expressions": [
     {
      "expression": "total_open",
      "result": {
       "data": {
        "text/plain": "5"
       },
       "metadata": {},
       "status": "ok"
      }
     }
    ]
   },
   "source": [
    "## Current open reviews & total days open\n",
    "\n",
    "pyOpenSci currently has **{eval}`total_open`** total open submissions."
   ]
  },
  {
   "cell_type": "code",
   "execution_count": 4,
   "metadata": {
    "editable": true,
    "execution": {
     "iopub.execute_input": "2024-12-19T18:47:18.038369Z",
     "iopub.status.busy": "2024-12-19T18:47:18.037650Z",
     "iopub.status.idle": "2024-12-19T18:47:18.068207Z",
     "shell.execute_reply": "2024-12-19T18:47:18.066686Z",
     "shell.execute_reply.started": "2024-12-19T18:47:18.038312Z"
    },
    "slideshow": {
     "slide_type": ""
    },
    "tags": [
     "remove-input"
    ]
   },
   "outputs": [
    {
     "data": {
      "text/html": [
       "<div>\n",
       "<style scoped>\n",
       "    .dataframe tbody tr th:only-of-type {\n",
       "        vertical-align: middle;\n",
       "    }\n",
       "\n",
       "    .dataframe tbody tr th {\n",
       "        vertical-align: top;\n",
       "    }\n",
       "\n",
       "    .dataframe thead th {\n",
       "        text-align: right;\n",
       "    }\n",
       "</style>\n",
       "<table border=\"1\" class=\"dataframe\">\n",
       "  <thead>\n",
       "    <tr style=\"text-align: right;\">\n",
       "      <th></th>\n",
       "      <th>package_name</th>\n",
       "      <th>created_at</th>\n",
       "      <th>editor</th>\n",
       "      <th>labels</th>\n",
       "      <th>days_open</th>\n",
       "    </tr>\n",
       "  </thead>\n",
       "  <tbody>\n",
       "    <tr>\n",
       "      <th>0</th>\n",
       "      <td>tda-mapper</td>\n",
       "      <td>2024-12-15</td>\n",
       "      <td>TBD</td>\n",
       "      <td>[0/pre-review-checks, New Submission!]</td>\n",
       "      <td>4</td>\n",
       "    </tr>\n",
       "    <tr>\n",
       "      <th>1</th>\n",
       "      <td>DQMaRC</td>\n",
       "      <td>2024-10-31</td>\n",
       "      <td>TBD</td>\n",
       "      <td>[0/pre-review-checks, New Submission!]</td>\n",
       "      <td>49</td>\n",
       "    </tr>\n",
       "    <tr>\n",
       "      <th>2</th>\n",
       "      <td>GALAssify</td>\n",
       "      <td>2024-09-30</td>\n",
       "      <td>TBD</td>\n",
       "      <td>[0/seeking-editor]</td>\n",
       "      <td>80</td>\n",
       "    </tr>\n",
       "    <tr>\n",
       "      <th>3</th>\n",
       "      <td>neonutilities</td>\n",
       "      <td>2024-09-25</td>\n",
       "      <td>TBD</td>\n",
       "      <td>[0/seeking-editor]</td>\n",
       "      <td>84</td>\n",
       "    </tr>\n",
       "    <tr>\n",
       "      <th>4</th>\n",
       "      <td>FElupe</td>\n",
       "      <td>2024-09-14</td>\n",
       "      <td>tkoyama010</td>\n",
       "      <td>[1/editor-assigned]</td>\n",
       "      <td>95</td>\n",
       "    </tr>\n",
       "    <tr>\n",
       "      <th>5</th>\n",
       "      <td>Solar Data Tools</td>\n",
       "      <td>2024-08-17</td>\n",
       "      <td>shirubana</td>\n",
       "      <td>[2/seeking-reviewers]</td>\n",
       "      <td>124</td>\n",
       "    </tr>\n",
       "    <tr>\n",
       "      <th>6</th>\n",
       "      <td>BlackMarblePy</td>\n",
       "      <td>2024-07-18</td>\n",
       "      <td>yeelauren</td>\n",
       "      <td>[3/reviewers-assigned]</td>\n",
       "      <td>154</td>\n",
       "    </tr>\n",
       "    <tr>\n",
       "      <th>7</th>\n",
       "      <td>MontePy</td>\n",
       "      <td>2024-07-01</td>\n",
       "      <td>kellyrowland</td>\n",
       "      <td>[3/reviewers-assigned]</td>\n",
       "      <td>170</td>\n",
       "    </tr>\n",
       "    <tr>\n",
       "      <th>8</th>\n",
       "      <td>Great Tables</td>\n",
       "      <td>2024-06-14</td>\n",
       "      <td>Batalex</td>\n",
       "      <td>[3/reviewers-assigned]</td>\n",
       "      <td>187</td>\n",
       "    </tr>\n",
       "    <tr>\n",
       "      <th>9</th>\n",
       "      <td>Fluidimage</td>\n",
       "      <td>2024-05-30</td>\n",
       "      <td>cmarmo</td>\n",
       "      <td>[3/reviewers-assigned]</td>\n",
       "      <td>203</td>\n",
       "    </tr>\n",
       "    <tr>\n",
       "      <th>10</th>\n",
       "      <td>astrodata</td>\n",
       "      <td>2024-05-13</td>\n",
       "      <td>hamogu</td>\n",
       "      <td>[5/awaiting-reviewer-response, astropy]</td>\n",
       "      <td>219</td>\n",
       "    </tr>\n",
       "    <tr>\n",
       "      <th>11</th>\n",
       "      <td>PyPartMC</td>\n",
       "      <td>2024-05-03</td>\n",
       "      <td>cmarmo</td>\n",
       "      <td>[3/reviewers-assigned]</td>\n",
       "      <td>230</td>\n",
       "    </tr>\n",
       "    <tr>\n",
       "      <th>12</th>\n",
       "      <td>AMS</td>\n",
       "      <td>2024-04-22</td>\n",
       "      <td>NimaSarajpoor</td>\n",
       "      <td>[3/reviewers-assigned]</td>\n",
       "      <td>241</td>\n",
       "    </tr>\n",
       "    <tr>\n",
       "      <th>13</th>\n",
       "      <td>plot_phylo</td>\n",
       "      <td>2024-02-22</td>\n",
       "      <td>ctb</td>\n",
       "      <td>[4/reviews-in-awaiting-changes]</td>\n",
       "      <td>301</td>\n",
       "    </tr>\n",
       "    <tr>\n",
       "      <th>14</th>\n",
       "      <td>PetroFit</td>\n",
       "      <td>2024-02-16</td>\n",
       "      <td>dhomeier</td>\n",
       "      <td>[5/awaiting-reviewer-response, astropy]</td>\n",
       "      <td>306</td>\n",
       "    </tr>\n",
       "    <tr>\n",
       "      <th>15</th>\n",
       "      <td>disdrodb</td>\n",
       "      <td>2024-01-18</td>\n",
       "      <td>zeitsperre</td>\n",
       "      <td>[1/editor-assigned]</td>\n",
       "      <td>336</td>\n",
       "    </tr>\n",
       "    <tr>\n",
       "      <th>16</th>\n",
       "      <td>Plenoptic</td>\n",
       "      <td>2023-11-17</td>\n",
       "      <td>sneakers-the-rat</td>\n",
       "      <td>[3/reviewers-assigned, ⌛ pending-maintainer-re...</td>\n",
       "      <td>397</td>\n",
       "    </tr>\n",
       "    <tr>\n",
       "      <th>17</th>\n",
       "      <td>GemGIS</td>\n",
       "      <td>2023-08-08</td>\n",
       "      <td>yeelauren</td>\n",
       "      <td>[4/reviews-in-awaiting-changes, ⌛ pending-main...</td>\n",
       "      <td>499</td>\n",
       "    </tr>\n",
       "  </tbody>\n",
       "</table>\n",
       "</div>"
      ],
      "text/plain": [
       "        package_name  created_at            editor  \\\n",
       "0         tda-mapper  2024-12-15               TBD   \n",
       "1             DQMaRC  2024-10-31               TBD   \n",
       "2          GALAssify  2024-09-30               TBD   \n",
       "3      neonutilities  2024-09-25               TBD   \n",
       "4             FElupe  2024-09-14        tkoyama010   \n",
       "5   Solar Data Tools  2024-08-17         shirubana   \n",
       "6      BlackMarblePy  2024-07-18         yeelauren   \n",
       "7            MontePy  2024-07-01      kellyrowland   \n",
       "8       Great Tables  2024-06-14           Batalex   \n",
       "9         Fluidimage  2024-05-30            cmarmo   \n",
       "10         astrodata  2024-05-13            hamogu   \n",
       "11          PyPartMC  2024-05-03            cmarmo   \n",
       "12               AMS  2024-04-22     NimaSarajpoor   \n",
       "13        plot_phylo  2024-02-22               ctb   \n",
       "14          PetroFit  2024-02-16          dhomeier   \n",
       "15          disdrodb  2024-01-18        zeitsperre   \n",
       "16         Plenoptic  2023-11-17  sneakers-the-rat   \n",
       "17            GemGIS  2023-08-08         yeelauren   \n",
       "\n",
       "                                               labels  days_open  \n",
       "0              [0/pre-review-checks, New Submission!]          4  \n",
       "1              [0/pre-review-checks, New Submission!]         49  \n",
       "2                                  [0/seeking-editor]         80  \n",
       "3                                  [0/seeking-editor]         84  \n",
       "4                                 [1/editor-assigned]         95  \n",
       "5                               [2/seeking-reviewers]        124  \n",
       "6                              [3/reviewers-assigned]        154  \n",
       "7                              [3/reviewers-assigned]        170  \n",
       "8                              [3/reviewers-assigned]        187  \n",
       "9                              [3/reviewers-assigned]        203  \n",
       "10            [5/awaiting-reviewer-response, astropy]        219  \n",
       "11                             [3/reviewers-assigned]        230  \n",
       "12                             [3/reviewers-assigned]        241  \n",
       "13                    [4/reviews-in-awaiting-changes]        301  \n",
       "14            [5/awaiting-reviewer-response, astropy]        306  \n",
       "15                                [1/editor-assigned]        336  \n",
       "16  [3/reviewers-assigned, ⌛ pending-maintainer-re...        397  \n",
       "17  [4/reviews-in-awaiting-changes, ⌛ pending-main...        499  "
      ]
     },
     "execution_count": 4,
     "metadata": {},
     "output_type": "execute_result"
    }
   ],
   "source": [
    "open_reviews"
   ]
  },
  {
   "cell_type": "code",
   "execution_count": 5,
   "metadata": {
    "editable": true,
    "execution": {
     "iopub.execute_input": "2024-12-19T18:47:18.070005Z",
     "iopub.status.busy": "2024-12-19T18:47:18.069505Z",
     "iopub.status.idle": "2024-12-19T18:47:18.981958Z",
     "shell.execute_reply": "2024-12-19T18:47:18.981137Z",
     "shell.execute_reply.started": "2024-12-19T18:47:18.069963Z"
    },
    "slideshow": {
     "slide_type": ""
    },
    "tags": [
     "remove-input"
    ]
   },
   "outputs": [],
   "source": [
    "# Get Presubmission inquiries\n",
    "gh_presubmissions = GitHubAPI(\n",
    "    org=\"pyopensci\", repo=\"software-submission\", labels=[\"presubmission\"]\n",
    ")\n",
    "process_review = ProcessIssues(gh_presubmissions)\n",
    "pre_issues = process_review.get_issues()\n",
    "pre_submissions, errors = process_review.parse_issues(pre_issues)\n",
    "pre_submission_table = [\n",
    "    {\n",
    "        \"package_name\": name,\n",
    "        \"created_at\": review.created_at,\n",
    "        \"date_closed\": review.closed_at,\n",
    "        \"labels\": review.labels,\n",
    "    }\n",
    "    for name, review in pre_submissions.items()\n",
    "]"
   ]
  },
  {
   "cell_type": "code",
   "execution_count": 6,
   "metadata": {
    "editable": true,
    "execution": {
     "iopub.execute_input": "2024-12-19T18:47:18.983428Z",
     "iopub.status.busy": "2024-12-19T18:47:18.982855Z",
     "iopub.status.idle": "2024-12-19T18:47:18.993781Z",
     "shell.execute_reply": "2024-12-19T18:47:18.992107Z",
     "shell.execute_reply.started": "2024-12-19T18:47:18.983379Z"
    },
    "slideshow": {
     "slide_type": ""
    },
    "tags": []
   },
   "outputs": [],
   "source": [
    "presubmission_df = pd.DataFrame(pre_submission_table)\n",
    "all_presubmissions = len(presubmission_df)"
   ]
  },
  {
   "cell_type": "code",
   "execution_count": 7,
   "metadata": {
    "editable": true,
    "execution": {
     "iopub.execute_input": "2024-12-19T18:47:18.995303Z",
     "iopub.status.busy": "2024-12-19T18:47:18.995035Z",
     "iopub.status.idle": "2024-12-19T18:47:19.004486Z",
     "shell.execute_reply": "2024-12-19T18:47:19.003662Z",
     "shell.execute_reply.started": "2024-12-19T18:47:18.995274Z"
    },
    "slideshow": {
     "slide_type": ""
    },
    "tags": [
     "remove-input"
    ]
   },
   "outputs": [],
   "source": [
    "# Get all currently open presubmissions\n",
    "open_presubmissions = presubmission_df[presubmission_df[\"date_closed\"].isna()]\n",
    "today = datetime.now(timezone.utc)\n",
    "open_presubmissions[\"days_open\"] = (today - open_presubmissions[\"created_at\"]).dt.days\n",
    "open_presubmissions[\"created_at\"] = open_presubmissions[\"created_at\"].dt.date\n",
    "open_presubmissions.reset_index(drop=True, inplace=True)\n",
    "\n",
    "total_open = len(open_presubmissions)\n",
    "\n",
    "# Stylize table columns\n",
    "open_presubmissions.sort_values(by=\"created_at\", ascending=False, inplace=True)\n",
    "open_presubmissions.drop(columns=[\"date_closed\"], inplace=True)"
   ]
  },
  {
   "cell_type": "markdown",
   "metadata": {
    "editable": true,
    "slideshow": {
     "slide_type": ""
    },
    "tags": [],
    "user_expressions": [
     {
      "expression": "all_presubmissions",
      "result": {
       "data": {
        "text/plain": "61"
       },
       "metadata": {},
       "status": "ok"
      }
     }
    ]
   },
   "source": [
    "## All presubmissions\n",
    "\n",
    "There are **{eval}`all_presubmissions`** total presubmissions to date, including closed presubmissions. "
   ]
  },
  {
   "cell_type": "markdown",
   "metadata": {
    "editable": true,
    "slideshow": {
     "slide_type": ""
    },
    "tags": [],
    "user_expressions": [
     {
      "expression": "len(open_presubmissions)",
      "result": {
       "data": {
        "text/plain": "5"
       },
       "metadata": {},
       "status": "ok"
      }
     }
    ]
   },
   "source": [
    "## Currently open software presubmission inquiries\n",
    "\n",
    "* It could be useful to grab the most recent comments on each\n",
    "* It would also be useful to grab the gh usernames of all people involved in the discussion and credit them. So for one i see astropy editors + alex being involved.\n",
    "\n",
    "There are **{eval}`len(open_presubmissions)` presubmission requests** currently open. \n"
   ]
  },
  {
   "cell_type": "code",
   "execution_count": 8,
   "metadata": {
    "editable": true,
    "execution": {
     "iopub.execute_input": "2024-12-19T18:47:19.005857Z",
     "iopub.status.busy": "2024-12-19T18:47:19.005570Z",
     "iopub.status.idle": "2024-12-19T18:47:19.016790Z",
     "shell.execute_reply": "2024-12-19T18:47:19.015954Z",
     "shell.execute_reply.started": "2024-12-19T18:47:19.005826Z"
    },
    "slideshow": {
     "slide_type": ""
    },
    "tags": [
     "remove-input"
    ]
   },
   "outputs": [
    {
     "data": {
      "text/html": [
       "<div>\n",
       "<style scoped>\n",
       "    .dataframe tbody tr th:only-of-type {\n",
       "        vertical-align: middle;\n",
       "    }\n",
       "\n",
       "    .dataframe tbody tr th {\n",
       "        vertical-align: top;\n",
       "    }\n",
       "\n",
       "    .dataframe thead th {\n",
       "        text-align: right;\n",
       "    }\n",
       "</style>\n",
       "<table border=\"1\" class=\"dataframe\">\n",
       "  <thead>\n",
       "    <tr style=\"text-align: right;\">\n",
       "      <th></th>\n",
       "      <th>package_name</th>\n",
       "      <th>created_at</th>\n",
       "      <th>labels</th>\n",
       "      <th>days_open</th>\n",
       "    </tr>\n",
       "  </thead>\n",
       "  <tbody>\n",
       "    <tr>\n",
       "      <th>0</th>\n",
       "      <td>Litrepl</td>\n",
       "      <td>2024-12-18</td>\n",
       "      <td>[presubmission]</td>\n",
       "      <td>1</td>\n",
       "    </tr>\n",
       "    <tr>\n",
       "      <th>1</th>\n",
       "      <td>VARGRAM</td>\n",
       "      <td>2024-12-18</td>\n",
       "      <td>[presubmission]</td>\n",
       "      <td>1</td>\n",
       "    </tr>\n",
       "    <tr>\n",
       "      <th>2</th>\n",
       "      <td>c4dynamics</td>\n",
       "      <td>2024-12-16</td>\n",
       "      <td>[presubmission]</td>\n",
       "      <td>3</td>\n",
       "    </tr>\n",
       "    <tr>\n",
       "      <th>3</th>\n",
       "      <td>PIVA</td>\n",
       "      <td>2024-12-16</td>\n",
       "      <td>[presubmission]</td>\n",
       "      <td>3</td>\n",
       "    </tr>\n",
       "    <tr>\n",
       "      <th>4</th>\n",
       "      <td>pymultifit</td>\n",
       "      <td>2024-12-14</td>\n",
       "      <td>[presubmission]</td>\n",
       "      <td>5</td>\n",
       "    </tr>\n",
       "  </tbody>\n",
       "</table>\n",
       "</div>"
      ],
      "text/plain": [
       "  package_name  created_at           labels  days_open\n",
       "0      Litrepl  2024-12-18  [presubmission]          1\n",
       "1      VARGRAM  2024-12-18  [presubmission]          1\n",
       "2   c4dynamics  2024-12-16  [presubmission]          3\n",
       "3         PIVA  2024-12-16  [presubmission]          3\n",
       "4   pymultifit  2024-12-14  [presubmission]          5"
      ]
     },
     "execution_count": 8,
     "metadata": {},
     "output_type": "execute_result"
    }
   ],
   "source": [
    "# # Render table of strictly open presubmissions\n",
    "open_presubmissions"
   ]
  },
  {
   "cell_type": "code",
   "execution_count": 9,
   "metadata": {
    "editable": true,
    "execution": {
     "iopub.execute_input": "2024-12-19T18:47:19.017736Z",
     "iopub.status.busy": "2024-12-19T18:47:19.017505Z",
     "iopub.status.idle": "2024-12-19T18:47:19.026735Z",
     "shell.execute_reply": "2024-12-19T18:47:19.026045Z",
     "shell.execute_reply.started": "2024-12-19T18:47:19.017717Z"
    },
    "slideshow": {
     "slide_type": ""
    },
    "tags": [
     "remove-input"
    ]
   },
   "outputs": [],
   "source": [
    "# Static list of all editors, updated 7/13/2024\n",
    "# TODO: get this list of current editors dynamically\n",
    "all_editors = [\n",
    "    \"cmarmo\",\n",
    "    \"dhomeier\",\n",
    "    \"ocefpaf\",\n",
    "    \"NikleDave\",\n",
    "    \"SimonMolinsky\",\n",
    "    \"Batalex\",\n",
    "    \"sneakers-the-rat\",\n",
    "    \"tomalrussel\",\n",
    "    \"ctb\",\n",
    "    \"mjhajharia\",\n",
    "    \"hamogu\",\n",
    "    \"isabelizimm\",\n",
    "    \"yeelauren\",\n",
    "    \"banesullivan\",\n",
    "]\n",
    "submissions_per_editor = {}\n",
    "for editor in all_editors:\n",
    "    submissions_per_editor[editor] = 0\n",
    "\n",
    "# Get table of editors who are currently assigned to an open submission\n",
    "busy_editors = open_reviews.drop(open_reviews[open_reviews.editor == \"TBD\"].index)\n",
    "busy_editors = busy_editors[\"editor\"]\n",
    "\n",
    "# Populate dictionary of number of open submissions per editor\n",
    "for editor in busy_editors:\n",
    "    if not (editor in submissions_per_editor):\n",
    "        submissions_per_editor[editor] = 0\n",
    "        # Add new editor to current editor list\n",
    "        # for debugging only, TODO: output to error log\n",
    "        # print(\"Editor\", editor, \"has an assigned project but is not in master list of editors\")\n",
    "\n",
    "    submissions_per_editor[editor] = submissions_per_editor[editor] + 1\n",
    "\n",
    "# Render table of all editors and their number of open submissions\n",
    "editor_activity_df = pd.DataFrame(\n",
    "    list(submissions_per_editor.items()), columns=[\"editor\", \"num_submissions\"]\n",
    ")\n",
    "editor_activity_df = editor_activity_df.sort_values(by=\"num_submissions\")\n",
    "editor_activity_df.reset_index(drop=True, inplace=True)\n",
    "\n",
    "# Get counts of available and unavailable editors\n",
    "num_busy_editors = editor_activity_df[editor_activity_df[\"num_submissions\"] > 0].shape[\n",
    "    0\n",
    "]\n",
    "num_available_editors = len(editor_activity_df) - num_busy_editors"
   ]
  },
  {
   "cell_type": "markdown",
   "metadata": {
    "editable": true,
    "slideshow": {
     "slide_type": ""
    },
    "tags": [],
    "user_expressions": [
     {
      "expression": "num_available_editors",
      "result": {
       "data": {
        "text/plain": "7"
       },
       "metadata": {},
       "status": "ok"
      }
     },
     {
      "expression": "num_busy_editors",
      "result": {
       "data": {
        "text/plain": "12"
       },
       "metadata": {},
       "status": "ok"
      }
     }
    ]
   },
   "source": [
    "## Available editors\n",
    "\n",
    "There are currently **{eval}`num_available_editors` available editors** and **{eval}`num_busy_editors` editors who are assigned to a submission**."
   ]
  },
  {
   "cell_type": "code",
   "execution_count": 10,
   "metadata": {
    "editable": true,
    "execution": {
     "iopub.execute_input": "2024-12-19T18:47:19.028008Z",
     "iopub.status.busy": "2024-12-19T18:47:19.027667Z",
     "iopub.status.idle": "2024-12-19T18:47:19.034860Z",
     "shell.execute_reply": "2024-12-19T18:47:19.034337Z",
     "shell.execute_reply.started": "2024-12-19T18:47:19.027981Z"
    },
    "slideshow": {
     "slide_type": ""
    },
    "tags": [
     "remove-input"
    ]
   },
   "outputs": [
    {
     "data": {
      "text/html": [
       "<div>\n",
       "<style scoped>\n",
       "    .dataframe tbody tr th:only-of-type {\n",
       "        vertical-align: middle;\n",
       "    }\n",
       "\n",
       "    .dataframe tbody tr th {\n",
       "        vertical-align: top;\n",
       "    }\n",
       "\n",
       "    .dataframe thead th {\n",
       "        text-align: right;\n",
       "    }\n",
       "</style>\n",
       "<table border=\"1\" class=\"dataframe\">\n",
       "  <thead>\n",
       "    <tr style=\"text-align: right;\">\n",
       "      <th></th>\n",
       "      <th>editor</th>\n",
       "      <th>num_submissions</th>\n",
       "    </tr>\n",
       "  </thead>\n",
       "  <tbody>\n",
       "    <tr>\n",
       "      <th>0</th>\n",
       "      <td>mjhajharia</td>\n",
       "      <td>0</td>\n",
       "    </tr>\n",
       "    <tr>\n",
       "      <th>1</th>\n",
       "      <td>ocefpaf</td>\n",
       "      <td>0</td>\n",
       "    </tr>\n",
       "    <tr>\n",
       "      <th>2</th>\n",
       "      <td>NikleDave</td>\n",
       "      <td>0</td>\n",
       "    </tr>\n",
       "    <tr>\n",
       "      <th>3</th>\n",
       "      <td>SimonMolinsky</td>\n",
       "      <td>0</td>\n",
       "    </tr>\n",
       "    <tr>\n",
       "      <th>4</th>\n",
       "      <td>tomalrussel</td>\n",
       "      <td>0</td>\n",
       "    </tr>\n",
       "    <tr>\n",
       "      <th>5</th>\n",
       "      <td>banesullivan</td>\n",
       "      <td>0</td>\n",
       "    </tr>\n",
       "    <tr>\n",
       "      <th>6</th>\n",
       "      <td>isabelizimm</td>\n",
       "      <td>0</td>\n",
       "    </tr>\n",
       "    <tr>\n",
       "      <th>7</th>\n",
       "      <td>kellyrowland</td>\n",
       "      <td>1</td>\n",
       "    </tr>\n",
       "    <tr>\n",
       "      <th>8</th>\n",
       "      <td>shirubana</td>\n",
       "      <td>1</td>\n",
       "    </tr>\n",
       "    <tr>\n",
       "      <th>9</th>\n",
       "      <td>tkoyama010</td>\n",
       "      <td>1</td>\n",
       "    </tr>\n",
       "    <tr>\n",
       "      <th>10</th>\n",
       "      <td>zeitsperre</td>\n",
       "      <td>1</td>\n",
       "    </tr>\n",
       "    <tr>\n",
       "      <th>11</th>\n",
       "      <td>NimaSarajpoor</td>\n",
       "      <td>1</td>\n",
       "    </tr>\n",
       "    <tr>\n",
       "      <th>12</th>\n",
       "      <td>ctb</td>\n",
       "      <td>1</td>\n",
       "    </tr>\n",
       "    <tr>\n",
       "      <th>13</th>\n",
       "      <td>sneakers-the-rat</td>\n",
       "      <td>1</td>\n",
       "    </tr>\n",
       "    <tr>\n",
       "      <th>14</th>\n",
       "      <td>Batalex</td>\n",
       "      <td>1</td>\n",
       "    </tr>\n",
       "    <tr>\n",
       "      <th>15</th>\n",
       "      <td>dhomeier</td>\n",
       "      <td>1</td>\n",
       "    </tr>\n",
       "    <tr>\n",
       "      <th>16</th>\n",
       "      <td>hamogu</td>\n",
       "      <td>1</td>\n",
       "    </tr>\n",
       "    <tr>\n",
       "      <th>17</th>\n",
       "      <td>yeelauren</td>\n",
       "      <td>2</td>\n",
       "    </tr>\n",
       "    <tr>\n",
       "      <th>18</th>\n",
       "      <td>cmarmo</td>\n",
       "      <td>2</td>\n",
       "    </tr>\n",
       "  </tbody>\n",
       "</table>\n",
       "</div>"
      ],
      "text/plain": [
       "              editor  num_submissions\n",
       "0         mjhajharia                0\n",
       "1            ocefpaf                0\n",
       "2          NikleDave                0\n",
       "3      SimonMolinsky                0\n",
       "4        tomalrussel                0\n",
       "5       banesullivan                0\n",
       "6        isabelizimm                0\n",
       "7       kellyrowland                1\n",
       "8          shirubana                1\n",
       "9         tkoyama010                1\n",
       "10        zeitsperre                1\n",
       "11     NimaSarajpoor                1\n",
       "12               ctb                1\n",
       "13  sneakers-the-rat                1\n",
       "14           Batalex                1\n",
       "15          dhomeier                1\n",
       "16            hamogu                1\n",
       "17         yeelauren                2\n",
       "18            cmarmo                2"
      ]
     },
     "execution_count": 10,
     "metadata": {},
     "output_type": "execute_result"
    }
   ],
   "source": [
    "# Display editor table\n",
    "editor_activity_df"
   ]
  },
  {
   "cell_type": "code",
   "execution_count": 11,
   "metadata": {
    "editable": true,
    "execution": {
     "iopub.execute_input": "2024-12-19T18:47:19.035843Z",
     "iopub.status.busy": "2024-12-19T18:47:19.035538Z",
     "iopub.status.idle": "2024-12-19T18:47:19.038861Z",
     "shell.execute_reply": "2024-12-19T18:47:19.038299Z",
     "shell.execute_reply.started": "2024-12-19T18:47:19.035814Z"
    },
    "slideshow": {
     "slide_type": ""
    },
    "tags": [
     "remove-input"
    ]
   },
   "outputs": [],
   "source": [
    "# Get all currently closed / approved issues\n",
    "\n",
    "# calculate time that they were in review."
   ]
  },
  {
   "cell_type": "markdown",
   "metadata": {},
   "source": [
    "## Editors load"
   ]
  },
  {
   "cell_type": "code",
   "execution_count": 12,
   "metadata": {
    "execution": {
     "iopub.execute_input": "2024-12-19T18:47:19.041398Z",
     "iopub.status.busy": "2024-12-19T18:47:19.041147Z",
     "iopub.status.idle": "2024-12-19T18:47:19.045669Z",
     "shell.execute_reply": "2024-12-19T18:47:19.045113Z",
     "shell.execute_reply.started": "2024-12-19T18:47:19.041379Z"
    },
    "tags": [
     "remove-input"
    ]
   },
   "outputs": [],
   "source": [
    "ignore_editors = [\"TBD\"]\n",
    "editors = [editor for editor in pd.unique(reviews_df.editor) if editor not in ignore_editors]"
   ]
  },
  {
   "cell_type": "code",
   "execution_count": 13,
   "metadata": {
    "execution": {
     "iopub.execute_input": "2024-12-19T18:47:19.046741Z",
     "iopub.status.busy": "2024-12-19T18:47:19.046356Z",
     "iopub.status.idle": "2024-12-19T18:47:19.060602Z",
     "shell.execute_reply": "2024-12-19T18:47:19.060009Z",
     "shell.execute_reply.started": "2024-12-19T18:47:19.046721Z"
    },
    "tags": [
     "remove-input"
    ]
   },
   "outputs": [
    {
     "data": {
      "text/html": [
       "<div>\n",
       "<style scoped>\n",
       "    .dataframe tbody tr th:only-of-type {\n",
       "        vertical-align: middle;\n",
       "    }\n",
       "\n",
       "    .dataframe tbody tr th {\n",
       "        vertical-align: top;\n",
       "    }\n",
       "\n",
       "    .dataframe thead th {\n",
       "        text-align: right;\n",
       "    }\n",
       "</style>\n",
       "<table border=\"1\" class=\"dataframe\">\n",
       "  <thead>\n",
       "    <tr style=\"text-align: right;\">\n",
       "      <th></th>\n",
       "      <th></th>\n",
       "      <th>n_edits</th>\n",
       "    </tr>\n",
       "    <tr>\n",
       "      <th>editor</th>\n",
       "      <th>created_at</th>\n",
       "      <th></th>\n",
       "    </tr>\n",
       "  </thead>\n",
       "  <tbody>\n",
       "    <tr>\n",
       "      <th>Batalex</th>\n",
       "      <th>2024Q2</th>\n",
       "      <td>1</td>\n",
       "    </tr>\n",
       "    <tr>\n",
       "      <th>NimaSarajpoor</th>\n",
       "      <th>2024Q2</th>\n",
       "      <td>1</td>\n",
       "    </tr>\n",
       "    <tr>\n",
       "      <th>cmarmo</th>\n",
       "      <th>2024Q2</th>\n",
       "      <td>2</td>\n",
       "    </tr>\n",
       "    <tr>\n",
       "      <th>ctb</th>\n",
       "      <th>2024Q1</th>\n",
       "      <td>1</td>\n",
       "    </tr>\n",
       "    <tr>\n",
       "      <th>dhomeier</th>\n",
       "      <th>2024Q1</th>\n",
       "      <td>1</td>\n",
       "    </tr>\n",
       "    <tr>\n",
       "      <th>hamogu</th>\n",
       "      <th>2024Q2</th>\n",
       "      <td>1</td>\n",
       "    </tr>\n",
       "    <tr>\n",
       "      <th>kellyrowland</th>\n",
       "      <th>2024Q3</th>\n",
       "      <td>1</td>\n",
       "    </tr>\n",
       "    <tr>\n",
       "      <th rowspan=\"2\" valign=\"top\">lwasser</th>\n",
       "      <th>2019Q1</th>\n",
       "      <td>1</td>\n",
       "    </tr>\n",
       "    <tr>\n",
       "      <th>2019Q4</th>\n",
       "      <td>1</td>\n",
       "    </tr>\n",
       "    <tr>\n",
       "      <th>shirubana</th>\n",
       "      <th>2024Q3</th>\n",
       "      <td>1</td>\n",
       "    </tr>\n",
       "    <tr>\n",
       "      <th>sneakers-the-rat</th>\n",
       "      <th>2023Q4</th>\n",
       "      <td>1</td>\n",
       "    </tr>\n",
       "    <tr>\n",
       "      <th>tkoyama010</th>\n",
       "      <th>2024Q3</th>\n",
       "      <td>1</td>\n",
       "    </tr>\n",
       "    <tr>\n",
       "      <th>xmnlab</th>\n",
       "      <th>2021Q4</th>\n",
       "      <td>1</td>\n",
       "    </tr>\n",
       "    <tr>\n",
       "      <th rowspan=\"2\" valign=\"top\">yeelauren</th>\n",
       "      <th>2023Q3</th>\n",
       "      <td>1</td>\n",
       "    </tr>\n",
       "    <tr>\n",
       "      <th>2024Q3</th>\n",
       "      <td>1</td>\n",
       "    </tr>\n",
       "    <tr>\n",
       "      <th>zeitsperre</th>\n",
       "      <th>2024Q1</th>\n",
       "      <td>1</td>\n",
       "    </tr>\n",
       "  </tbody>\n",
       "</table>\n",
       "</div>"
      ],
      "text/plain": [
       "                             n_edits\n",
       "editor           created_at         \n",
       "Batalex          2024Q2            1\n",
       "NimaSarajpoor    2024Q2            1\n",
       "cmarmo           2024Q2            2\n",
       "ctb              2024Q1            1\n",
       "dhomeier         2024Q1            1\n",
       "hamogu           2024Q2            1\n",
       "kellyrowland     2024Q3            1\n",
       "lwasser          2019Q1            1\n",
       "                 2019Q4            1\n",
       "shirubana        2024Q3            1\n",
       "sneakers-the-rat 2023Q4            1\n",
       "tkoyama010       2024Q3            1\n",
       "xmnlab           2021Q4            1\n",
       "yeelauren        2023Q3            1\n",
       "                 2024Q3            1\n",
       "zeitsperre       2024Q1            1"
      ]
     },
     "execution_count": 13,
     "metadata": {},
     "output_type": "execute_result"
    }
   ],
   "source": [
    "n_edits = count_edits_by_quarter(reviews_df)[\"n_edits\"].to_frame()\n",
    "for editor in ignore_editors:\n",
    "    n_edits.drop(editor, inplace=True)\n",
    "n_edits"
   ]
  },
  {
   "cell_type": "code",
   "execution_count": 14,
   "metadata": {
    "execution": {
     "iopub.execute_input": "2024-12-19T18:47:19.061414Z",
     "iopub.status.busy": "2024-12-19T18:47:19.061185Z",
     "iopub.status.idle": "2024-12-19T18:47:19.065022Z",
     "shell.execute_reply": "2024-12-19T18:47:19.064413Z",
     "shell.execute_reply.started": "2024-12-19T18:47:19.061395Z"
    },
    "tags": [
     "remove-input"
    ]
   },
   "outputs": [],
   "source": [
    "edits = (\n",
    "    reviews_df\n",
    "    .rename(columns=dict(created_at=\"Date\"))\n",
    "    .copy()\n",
    ")"
   ]
  },
  {
   "cell_type": "code",
   "execution_count": 15,
   "metadata": {
    "execution": {
     "iopub.execute_input": "2024-12-19T18:47:19.065901Z",
     "iopub.status.busy": "2024-12-19T18:47:19.065678Z",
     "iopub.status.idle": "2024-12-19T18:47:19.342895Z",
     "shell.execute_reply": "2024-12-19T18:47:19.342332Z",
     "shell.execute_reply.started": "2024-12-19T18:47:19.065875Z"
    },
    "tags": [
     "remove-input"
    ]
   },
   "outputs": [
    {
     "data": {
      "text/html": [
       "\n",
       "<style>\n",
       "  #altair-viz-e9158cd8ee59440282aad29625532d2c.vega-embed {\n",
       "    width: 100%;\n",
       "    display: flex;\n",
       "  }\n",
       "\n",
       "  #altair-viz-e9158cd8ee59440282aad29625532d2c.vega-embed details,\n",
       "  #altair-viz-e9158cd8ee59440282aad29625532d2c.vega-embed details summary {\n",
       "    position: relative;\n",
       "  }\n",
       "</style>\n",
       "<div id=\"altair-viz-e9158cd8ee59440282aad29625532d2c\"></div>\n",
       "<script type=\"text/javascript\">\n",
       "  var VEGA_DEBUG = (typeof VEGA_DEBUG == \"undefined\") ? {} : VEGA_DEBUG;\n",
       "  (function(spec, embedOpt){\n",
       "    let outputDiv = document.currentScript.previousElementSibling;\n",
       "    if (outputDiv.id !== \"altair-viz-e9158cd8ee59440282aad29625532d2c\") {\n",
       "      outputDiv = document.getElementById(\"altair-viz-e9158cd8ee59440282aad29625532d2c\");\n",
       "    }\n",
       "\n",
       "    const paths = {\n",
       "      \"vega\": \"https://cdn.jsdelivr.net/npm/vega@5?noext\",\n",
       "      \"vega-lib\": \"https://cdn.jsdelivr.net/npm/vega-lib?noext\",\n",
       "      \"vega-lite\": \"https://cdn.jsdelivr.net/npm/vega-lite@5.20.1?noext\",\n",
       "      \"vega-embed\": \"https://cdn.jsdelivr.net/npm/vega-embed@6?noext\",\n",
       "    };\n",
       "\n",
       "    function maybeLoadScript(lib, version) {\n",
       "      var key = `${lib.replace(\"-\", \"\")}_version`;\n",
       "      return (VEGA_DEBUG[key] == version) ?\n",
       "        Promise.resolve(paths[lib]) :\n",
       "        new Promise(function(resolve, reject) {\n",
       "          var s = document.createElement('script');\n",
       "          document.getElementsByTagName(\"head\")[0].appendChild(s);\n",
       "          s.async = true;\n",
       "          s.onload = () => {\n",
       "            VEGA_DEBUG[key] = version;\n",
       "            return resolve(paths[lib]);\n",
       "          };\n",
       "          s.onerror = () => reject(`Error loading script: ${paths[lib]}`);\n",
       "          s.src = paths[lib];\n",
       "        });\n",
       "    }\n",
       "\n",
       "    function showError(err) {\n",
       "      outputDiv.innerHTML = `<div class=\"error\" style=\"color:red;\">${err}</div>`;\n",
       "      throw err;\n",
       "    }\n",
       "\n",
       "    function displayChart(vegaEmbed) {\n",
       "      vegaEmbed(outputDiv, spec, embedOpt)\n",
       "        .catch(err => showError(`Javascript Error: ${err.message}<br>This usually means there's a typo in your chart specification. See the javascript console for the full traceback.`));\n",
       "    }\n",
       "\n",
       "    if(typeof define === \"function\" && define.amd) {\n",
       "      requirejs.config({paths});\n",
       "      let deps = [\"vega-embed\"];\n",
       "      require(deps, displayChart, err => showError(`Error loading script: ${err.message}`));\n",
       "    } else {\n",
       "      maybeLoadScript(\"vega\", \"5\")\n",
       "        .then(() => maybeLoadScript(\"vega-lite\", \"5.20.1\"))\n",
       "        .then(() => maybeLoadScript(\"vega-embed\", \"6\"))\n",
       "        .catch(showError)\n",
       "        .then(() => displayChart(vegaEmbed));\n",
       "    }\n",
       "  })({\"config\": {\"view\": {\"continuousWidth\": 300, \"continuousHeight\": 300}}, \"vconcat\": [{\"data\": {\"name\": \"data-aebad3a83a86a014a68b5d4f46ae7c8b\"}, \"mark\": {\"type\": \"bar\", \"color\": \"purple\"}, \"encoding\": {\"tooltip\": [{\"field\": \"Date\", \"timeUnit\": \"yearquarter\", \"type\": \"temporal\"}, {\"aggregate\": \"count\", \"field\": \"package_name\", \"type\": \"nominal\"}], \"x\": {\"field\": \"Date\", \"timeUnit\": \"yearquarter\", \"type\": \"temporal\"}, \"y\": {\"aggregate\": \"count\", \"field\": \"package_name\", \"title\": \"Number of edits per quarter\", \"type\": \"nominal\"}}, \"height\": 200, \"title\": {\"text\": \"tkoyama010\", \"fontSize\": 18}, \"width\": 600}, {\"data\": {\"name\": \"data-436277d7f7650f644b9528f80d37af53\"}, \"mark\": {\"type\": \"bar\", \"color\": \"purple\"}, \"encoding\": {\"tooltip\": [{\"field\": \"Date\", \"timeUnit\": \"yearquarter\", \"type\": \"temporal\"}, {\"aggregate\": \"count\", \"field\": \"package_name\", \"type\": \"nominal\"}], \"x\": {\"field\": \"Date\", \"timeUnit\": \"yearquarter\", \"type\": \"temporal\"}, \"y\": {\"aggregate\": \"count\", \"field\": \"package_name\", \"title\": \"Number of edits per quarter\", \"type\": \"nominal\"}}, \"height\": 200, \"title\": {\"text\": \"shirubana\", \"fontSize\": 18}, \"width\": 600}, {\"data\": {\"name\": \"data-000bfd56e081576c9263ab1042b03a44\"}, \"mark\": {\"type\": \"bar\", \"color\": \"purple\"}, \"encoding\": {\"tooltip\": [{\"field\": \"Date\", \"timeUnit\": \"yearquarter\", \"type\": \"temporal\"}, {\"aggregate\": \"count\", \"field\": \"package_name\", \"type\": \"nominal\"}], \"x\": {\"field\": \"Date\", \"timeUnit\": \"yearquarter\", \"type\": \"temporal\"}, \"y\": {\"aggregate\": \"count\", \"field\": \"package_name\", \"title\": \"Number of edits per quarter\", \"type\": \"nominal\"}}, \"height\": 200, \"title\": {\"text\": \"yeelauren\", \"fontSize\": 18}, \"width\": 600}, {\"data\": {\"name\": \"data-3edcffdc8417335db522ee11c293f607\"}, \"mark\": {\"type\": \"bar\", \"color\": \"purple\"}, \"encoding\": {\"tooltip\": [{\"field\": \"Date\", \"timeUnit\": \"yearquarter\", \"type\": \"temporal\"}, {\"aggregate\": \"count\", \"field\": \"package_name\", \"type\": \"nominal\"}], \"x\": {\"field\": \"Date\", \"timeUnit\": \"yearquarter\", \"type\": \"temporal\"}, \"y\": {\"aggregate\": \"count\", \"field\": \"package_name\", \"title\": \"Number of edits per quarter\", \"type\": \"nominal\"}}, \"height\": 200, \"title\": {\"text\": \"kellyrowland\", \"fontSize\": 18}, \"width\": 600}, {\"data\": {\"name\": \"data-59e67ce9f5fec9a092b2d399f26f491e\"}, \"mark\": {\"type\": \"bar\", \"color\": \"purple\"}, \"encoding\": {\"tooltip\": [{\"field\": \"Date\", \"timeUnit\": \"yearquarter\", \"type\": \"temporal\"}, {\"aggregate\": \"count\", \"field\": \"package_name\", \"type\": \"nominal\"}], \"x\": {\"field\": \"Date\", \"timeUnit\": \"yearquarter\", \"type\": \"temporal\"}, \"y\": {\"aggregate\": \"count\", \"field\": \"package_name\", \"title\": \"Number of edits per quarter\", \"type\": \"nominal\"}}, \"height\": 200, \"title\": {\"text\": \"Batalex\", \"fontSize\": 18}, \"width\": 600}, {\"data\": {\"name\": \"data-a0d76d74b87c4d59d6fd64be3bce283b\"}, \"mark\": {\"type\": \"bar\", \"color\": \"purple\"}, \"encoding\": {\"tooltip\": [{\"field\": \"Date\", \"timeUnit\": \"yearquarter\", \"type\": \"temporal\"}, {\"aggregate\": \"count\", \"field\": \"package_name\", \"type\": \"nominal\"}], \"x\": {\"field\": \"Date\", \"timeUnit\": \"yearquarter\", \"type\": \"temporal\"}, \"y\": {\"aggregate\": \"count\", \"field\": \"package_name\", \"title\": \"Number of edits per quarter\", \"type\": \"nominal\"}}, \"height\": 200, \"title\": {\"text\": \"cmarmo\", \"fontSize\": 18}, \"width\": 600}, {\"data\": {\"name\": \"data-16a20c4d31fe6a054a8e48054000eadb\"}, \"mark\": {\"type\": \"bar\", \"color\": \"purple\"}, \"encoding\": {\"tooltip\": [{\"field\": \"Date\", \"timeUnit\": \"yearquarter\", \"type\": \"temporal\"}, {\"aggregate\": \"count\", \"field\": \"package_name\", \"type\": \"nominal\"}], \"x\": {\"field\": \"Date\", \"timeUnit\": \"yearquarter\", \"type\": \"temporal\"}, \"y\": {\"aggregate\": \"count\", \"field\": \"package_name\", \"title\": \"Number of edits per quarter\", \"type\": \"nominal\"}}, \"height\": 200, \"title\": {\"text\": \"hamogu\", \"fontSize\": 18}, \"width\": 600}, {\"data\": {\"name\": \"data-53b02df63da74c17b8c3d4afc3f980ca\"}, \"mark\": {\"type\": \"bar\", \"color\": \"purple\"}, \"encoding\": {\"tooltip\": [{\"field\": \"Date\", \"timeUnit\": \"yearquarter\", \"type\": \"temporal\"}, {\"aggregate\": \"count\", \"field\": \"package_name\", \"type\": \"nominal\"}], \"x\": {\"field\": \"Date\", \"timeUnit\": \"yearquarter\", \"type\": \"temporal\"}, \"y\": {\"aggregate\": \"count\", \"field\": \"package_name\", \"title\": \"Number of edits per quarter\", \"type\": \"nominal\"}}, \"height\": 200, \"title\": {\"text\": \"NimaSarajpoor\", \"fontSize\": 18}, \"width\": 600}, {\"data\": {\"name\": \"data-7d3267e1eeea0f6c450958f2f2635467\"}, \"mark\": {\"type\": \"bar\", \"color\": \"purple\"}, \"encoding\": {\"tooltip\": [{\"field\": \"Date\", \"timeUnit\": \"yearquarter\", \"type\": \"temporal\"}, {\"aggregate\": \"count\", \"field\": \"package_name\", \"type\": \"nominal\"}], \"x\": {\"field\": \"Date\", \"timeUnit\": \"yearquarter\", \"type\": \"temporal\"}, \"y\": {\"aggregate\": \"count\", \"field\": \"package_name\", \"title\": \"Number of edits per quarter\", \"type\": \"nominal\"}}, \"height\": 200, \"title\": {\"text\": \"ctb\", \"fontSize\": 18}, \"width\": 600}, {\"data\": {\"name\": \"data-eea1830e92f1b4d7a571bbb42dd79b71\"}, \"mark\": {\"type\": \"bar\", \"color\": \"purple\"}, \"encoding\": {\"tooltip\": [{\"field\": \"Date\", \"timeUnit\": \"yearquarter\", \"type\": \"temporal\"}, {\"aggregate\": \"count\", \"field\": \"package_name\", \"type\": \"nominal\"}], \"x\": {\"field\": \"Date\", \"timeUnit\": \"yearquarter\", \"type\": \"temporal\"}, \"y\": {\"aggregate\": \"count\", \"field\": \"package_name\", \"title\": \"Number of edits per quarter\", \"type\": \"nominal\"}}, \"height\": 200, \"title\": {\"text\": \"dhomeier\", \"fontSize\": 18}, \"width\": 600}, {\"data\": {\"name\": \"data-6db5e42ab421300339526d9a9e19b4cc\"}, \"mark\": {\"type\": \"bar\", \"color\": \"purple\"}, \"encoding\": {\"tooltip\": [{\"field\": \"Date\", \"timeUnit\": \"yearquarter\", \"type\": \"temporal\"}, {\"aggregate\": \"count\", \"field\": \"package_name\", \"type\": \"nominal\"}], \"x\": {\"field\": \"Date\", \"timeUnit\": \"yearquarter\", \"type\": \"temporal\"}, \"y\": {\"aggregate\": \"count\", \"field\": \"package_name\", \"title\": \"Number of edits per quarter\", \"type\": \"nominal\"}}, \"height\": 200, \"title\": {\"text\": \"zeitsperre\", \"fontSize\": 18}, \"width\": 600}, {\"data\": {\"name\": \"data-778dd271cb93b6835f59544a2bebb88e\"}, \"mark\": {\"type\": \"bar\", \"color\": \"purple\"}, \"encoding\": {\"tooltip\": [{\"field\": \"Date\", \"timeUnit\": \"yearquarter\", \"type\": \"temporal\"}, {\"aggregate\": \"count\", \"field\": \"package_name\", \"type\": \"nominal\"}], \"x\": {\"field\": \"Date\", \"timeUnit\": \"yearquarter\", \"type\": \"temporal\"}, \"y\": {\"aggregate\": \"count\", \"field\": \"package_name\", \"title\": \"Number of edits per quarter\", \"type\": \"nominal\"}}, \"height\": 200, \"title\": {\"text\": \"sneakers-the-rat\", \"fontSize\": 18}, \"width\": 600}, {\"data\": {\"name\": \"data-0169db2d058b1af85fcd81a8684cff79\"}, \"mark\": {\"type\": \"bar\", \"color\": \"purple\"}, \"encoding\": {\"tooltip\": [{\"field\": \"Date\", \"timeUnit\": \"yearquarter\", \"type\": \"temporal\"}, {\"aggregate\": \"count\", \"field\": \"package_name\", \"type\": \"nominal\"}], \"x\": {\"field\": \"Date\", \"timeUnit\": \"yearquarter\", \"type\": \"temporal\"}, \"y\": {\"aggregate\": \"count\", \"field\": \"package_name\", \"title\": \"Number of edits per quarter\", \"type\": \"nominal\"}}, \"height\": 200, \"title\": {\"text\": \"xmnlab\", \"fontSize\": 18}, \"width\": 600}, {\"data\": {\"name\": \"data-61432286cbf0e2bdf00067b98b0cf3ee\"}, \"mark\": {\"type\": \"bar\", \"color\": \"purple\"}, \"encoding\": {\"tooltip\": [{\"field\": \"Date\", \"timeUnit\": \"yearquarter\", \"type\": \"temporal\"}, {\"aggregate\": \"count\", \"field\": \"package_name\", \"type\": \"nominal\"}], \"x\": {\"field\": \"Date\", \"timeUnit\": \"yearquarter\", \"type\": \"temporal\"}, \"y\": {\"aggregate\": \"count\", \"field\": \"package_name\", \"title\": \"Number of edits per quarter\", \"type\": \"nominal\"}}, \"height\": 200, \"title\": {\"text\": \"lwasser\", \"fontSize\": 18}, \"width\": 600}], \"resolve\": {\"scale\": {\"x\": \"shared\", \"y\": \"shared\"}}, \"$schema\": \"https://vega.github.io/schema/vega-lite/v5.20.1.json\", \"datasets\": {\"data-aebad3a83a86a014a68b5d4f46ae7c8b\": [{\"package_name\": \"FElupe\", \"Date\": \"2024-09-14T22:37:44+00:00\", \"date_closed\": \"\", \"editor\": \"tkoyama010\", \"labels\": [\"1/editor-assigned\"]}], \"data-436277d7f7650f644b9528f80d37af53\": [{\"package_name\": \"Solar Data Tools\", \"Date\": \"2024-08-17T06:30:02+00:00\", \"date_closed\": \"\", \"editor\": \"shirubana\", \"labels\": [\"2/seeking-reviewers\"]}], \"data-000bfd56e081576c9263ab1042b03a44\": [{\"package_name\": \"BlackMarblePy\", \"Date\": \"2024-07-18T14:15:11+00:00\", \"date_closed\": \"\", \"editor\": \"yeelauren\", \"labels\": [\"3/reviewers-assigned\"]}, {\"package_name\": \"GemGIS\", \"Date\": \"2023-08-08T07:11:59+00:00\", \"date_closed\": \"\", \"editor\": \"yeelauren\", \"labels\": [\"4/reviews-in-awaiting-changes\", \"\\u231b pending-maintainer-response\", \"on-hold\"]}], \"data-3edcffdc8417335db522ee11c293f607\": [{\"package_name\": \"MontePy\", \"Date\": \"2024-07-01T21:04:05+00:00\", \"date_closed\": \"\", \"editor\": \"kellyrowland\", \"labels\": [\"3/reviewers-assigned\"]}], \"data-59e67ce9f5fec9a092b2d399f26f491e\": [{\"package_name\": \"Great Tables\", \"Date\": \"2024-06-14T19:55:59+00:00\", \"date_closed\": \"\", \"editor\": \"Batalex\", \"labels\": [\"3/reviewers-assigned\"]}], \"data-a0d76d74b87c4d59d6fd64be3bce283b\": [{\"package_name\": \"Fluidimage\", \"Date\": \"2024-05-30T12:53:48+00:00\", \"date_closed\": \"\", \"editor\": \"cmarmo\", \"labels\": [\"3/reviewers-assigned\"]}, {\"package_name\": \"PyPartMC\", \"Date\": \"2024-05-03T18:22:59+00:00\", \"date_closed\": \"\", \"editor\": \"cmarmo\", \"labels\": [\"3/reviewers-assigned\"]}], \"data-16a20c4d31fe6a054a8e48054000eadb\": [{\"package_name\": \"astrodata\", \"Date\": \"2024-05-13T23:48:03+00:00\", \"date_closed\": \"\", \"editor\": \"hamogu\", \"labels\": [\"5/awaiting-reviewer-response\", \"astropy\"]}], \"data-53b02df63da74c17b8c3d4afc3f980ca\": [{\"package_name\": \"AMS\", \"Date\": \"2024-04-22T01:37:56+00:00\", \"date_closed\": \"\", \"editor\": \"NimaSarajpoor\", \"labels\": [\"3/reviewers-assigned\"]}], \"data-7d3267e1eeea0f6c450958f2f2635467\": [{\"package_name\": \"plot_phylo\", \"Date\": \"2024-02-22T11:55:59+00:00\", \"date_closed\": \"\", \"editor\": \"ctb\", \"labels\": [\"4/reviews-in-awaiting-changes\"]}], \"data-eea1830e92f1b4d7a571bbb42dd79b71\": [{\"package_name\": \"PetroFit\", \"Date\": \"2024-02-16T22:46:47+00:00\", \"date_closed\": \"\", \"editor\": \"dhomeier\", \"labels\": [\"5/awaiting-reviewer-response\", \"astropy\"]}], \"data-6db5e42ab421300339526d9a9e19b4cc\": [{\"package_name\": \"disdrodb\", \"Date\": \"2024-01-18T17:25:28+00:00\", \"date_closed\": \"\", \"editor\": \"zeitsperre\", \"labels\": [\"1/editor-assigned\"]}], \"data-778dd271cb93b6835f59544a2bebb88e\": [{\"package_name\": \"Plenoptic\", \"Date\": \"2023-11-17T20:39:40+00:00\", \"date_closed\": \"\", \"editor\": \"sneakers-the-rat\", \"labels\": [\"3/reviewers-assigned\", \"\\u231b pending-maintainer-response\"]}], \"data-0169db2d058b1af85fcd81a8684cff79\": [{\"package_name\": \"Sevivi\", \"Date\": \"2021-12-30T13:55:10+00:00\", \"date_closed\": \"2022-09-06T14:18:26+00:00\", \"editor\": \"xmnlab\", \"labels\": [\"4/reviews-in-awaiting-changes\", \"\\u231b pending-maintainer-response\"]}], \"data-61432286cbf0e2bdf00067b98b0cf3ee\": [{\"package_name\": \"\", \"Date\": \"2019-03-22T15:49:42+00:00\", \"date_closed\": \"2022-09-01T16:33:11+00:00\", \"editor\": \"lwasser\", \"labels\": [\"4/reviews-in-awaiting-changes\", \"topic: data-retrieval\", \"incomplete-closed-review\", \"on-hold\"]}, {\"package_name\": \"ObsPy\", \"Date\": \"2019-12-12T00:42:45+00:00\", \"date_closed\": \"2022-09-01T16:38:37+00:00\", \"editor\": \"lwasser\", \"labels\": [\"0/pre-review-checks\", \"3/reviewers-assigned\", \"on-hold\"]}]}}, {\"mode\": \"vega-lite\"});\n",
       "</script>"
      ],
      "text/plain": [
       "alt.VConcatChart(...)"
      ]
     },
     "metadata": {},
     "output_type": "display_data"
    }
   ],
   "source": [
    "charts = [\n",
    "    alt.Chart(edits.loc[edits.editor == editor])\n",
    "    .mark_bar(color=\"purple\")\n",
    "    .encode(\n",
    "        x=alt.X(\"yearquarter(Date):T\"),\n",
    "        y=alt.Y(\"count(package_name)\", title=\"Number of edits per quarter\"),\n",
    "        tooltip=[\"yearquarter(Date)\", \"count(package_name)\"],\n",
    "    )\n",
    "    .properties(\n",
    "        title=alt.TitleParams(text=f\"{editor}\", fontSize=18),\n",
    "        width=600,\n",
    "        height=200,\n",
    "    )\n",
    "    for editor in editors\n",
    "]\n",
    "\n",
    "full_chart = alt.vconcat(*charts).resolve_scale(x=\"shared\", y=\"shared\")\n",
    "full_chart.show()"
   ]
  }
 ],
 "metadata": {
  "kernelspec": {
   "display_name": "Python 3 (ipykernel)",
   "language": "python",
   "name": "python3"
  },
  "language_info": {
   "codemirror_mode": {
    "name": "ipython",
    "version": 3
   },
   "file_extension": ".py",
   "mimetype": "text/x-python",
   "name": "python",
   "nbconvert_exporter": "python",
   "pygments_lexer": "ipython3",
   "version": "3.11.11"
  },
  "vscode": {
   "interpreter": {
    "hash": "d7b89e158b719c02a21186c9646700ecf5a8cc5b1b6f738df9b6ffa75e5e74e4"
   }
  }
 },
 "nbformat": 4,
 "nbformat_minor": 4
}
