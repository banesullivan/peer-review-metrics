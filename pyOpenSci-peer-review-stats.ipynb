{
 "cells": [
  {
   "cell_type": "markdown",
   "metadata": {
    "editable": true,
    "slideshow": {
     "slide_type": ""
    },
    "tags": []
   },
   "source": [
    "---\n",
    "title: pyOpenSci Software Submission Stats\n",
    "subtitle: pyOpenSci Peer Review Summary Stats\n",
    "author:\n",
    "  - name: Leah Wasser\n",
    "    affiliations: pyOpenSci\n",
    "    orcid: 0000-0002-7859-8394\n",
    "    email: leah@pyopensci.org\n",
    "license:\n",
    "  code: MIT\n",
    "date: 2024/06/19\n",
    "---\n",
    "\n",
    "\n",
    "* https://github.com/ryantam626/jupyterlab_code_formatter\n",
    "\n",
    "This is a workflow that colates all GitHub issues associated with our reviews. "
   ]
  },
  {
   "cell_type": "markdown",
   "metadata": {
    "editable": true,
    "slideshow": {
     "slide_type": ""
    },
    "tags": []
   },
   "source": [
    "Questions i have\n",
    "\n",
    "* How to add figure captions and alt text"
   ]
  },
  {
   "cell_type": "code",
   "execution_count": 1,
   "metadata": {
    "editable": true,
    "slideshow": {
     "slide_type": ""
    },
    "tags": [
     "remove-input"
    ]
   },
   "outputs": [],
   "source": [
    "import os\n",
    "from datetime import datetime\n",
    "\n",
    "import altair as alt\n",
    "import matplotlib.pyplot as plt\n",
    "import pandas as pd\n",
    "import seaborn as sns\n",
    "from pyosmeta import ProcessIssues\n",
    "from pyosmeta.github_api import GitHubAPI\n",
    "\n",
    "pd.options.mode.chained_assignment = None\n",
    "# pyArrow needs to be installed\n",
    "pd.options.future.infer_string = True"
   ]
  },
  {
   "cell_type": "code",
   "execution_count": 2,
   "metadata": {
    "editable": true,
    "jupyter": {
     "source_hidden": true
    },
    "slideshow": {
     "slide_type": ""
    },
    "tags": [
     "remove-input"
    ]
   },
   "outputs": [],
   "source": [
    "def parse_single_issue(issue) -> dict:\n",
    "    \"\"\"\n",
    "    Parse a single issue from the GitHub API response.\n",
    "\n",
    "    Parameters\n",
    "    ----------\n",
    "    issue : dict\n",
    "        Dictionary containing information about a single issue.\n",
    "\n",
    "    Returns\n",
    "    -------\n",
    "    dict\n",
    "        Dictionary containing parsed information about the issue.\n",
    "    \"\"\"\n",
    "    parsed_issue = {}\n",
    "\n",
    "    # Extract labels\n",
    "    parsed_issue[\"labels\"] = [label[\"name\"] for label in issue.get(\"labels\", [])]\n",
    "\n",
    "    # Extract header text (title of the issue)\n",
    "    parsed_issue[\"header_text\"] = issue.get(\"title\", \"\")\n",
    "\n",
    "    # Extract date opened\n",
    "    parsed_issue[\"date_opened\"] = datetime.strptime(\n",
    "        issue.get(\"created_at\"), \"%Y-%m-%dT%H:%M:%SZ\"\n",
    "    )\n",
    "\n",
    "    # Extract date closed (if available)\n",
    "    if issue.get(\"closed_at\"):\n",
    "        parsed_issue[\"date_closed\"] = datetime.strptime(\n",
    "            issue.get(\"closed_at\"), \"%Y-%m-%dT%H:%M:%SZ\"\n",
    "        )\n",
    "        # Calculate total time issue was open\n",
    "        time_open = parsed_issue[\"date_closed\"] - parsed_issue[\"date_opened\"]\n",
    "        parsed_issue[\"time_open_days\"] = time_open.total_seconds() / (60 * 60 * 24)\n",
    "    else:\n",
    "        parsed_issue[\"date_closed\"] = None\n",
    "        parsed_issue[\"time_open_days\"] = None\n",
    "\n",
    "    return parsed_issue"
   ]
  },
  {
   "cell_type": "code",
   "execution_count": 3,
   "metadata": {
    "editable": true,
    "slideshow": {
     "slide_type": ""
    },
    "tags": [
     "remove-input"
    ]
   },
   "outputs": [],
   "source": [
    "# Get all issues from GitHub software-submission repo, Return df with labels, title, date_opened and closed and total time open in days\n",
    "github_api = GitHubAPI(\n",
    "    org=\"pyopensci\",\n",
    "    repo=\"software-submission\",\n",
    ")\n",
    "\n",
    "process_review = ProcessIssues(github_api)\n",
    "issues = process_review.return_response()\n",
    "\n",
    "all_issues = []\n",
    "for issue in issues:\n",
    "    all_issues.append(parse_single_issue(issue))\n",
    "\n",
    "df = pd.DataFrame(all_issues)\n",
    "\n",
    "# Remove issues that are unlabeled or say help wanted\n",
    "valid_issues = df[\n",
    "    ~(\n",
    "        (df[\"labels\"].apply(len) == 0)\n",
    "        | df[\"labels\"].apply(lambda x: \"help wanted\" in x or \"Help Request\" in x)\n",
    "    )\n",
    "]\n",
    "\n",
    "# Total presubmissions - get the total number of pre-submission inquiries (all time)\n",
    "total_presubmissions = valid_issues[\n",
    "    valid_issues[\"labels\"].apply(lambda x: \"presubmission\" in x)\n",
    "].shape[0]\n",
    "\n",
    "total_reviews = len(valid_issues) - total_presubmissions"
   ]
  },
  {
   "cell_type": "markdown",
   "metadata": {
    "editable": true,
    "slideshow": {
     "slide_type": ""
    },
    "tags": [],
    "user_expressions": [
     {
      "expression": "total_presubmissions",
      "result": {
       "data": {
        "text/plain": "56"
       },
       "metadata": {},
       "status": "ok"
      }
     },
     {
      "expression": "total_reviews",
      "result": {
       "data": {
        "text/plain": "71"
       },
       "metadata": {},
       "status": "ok"
      }
     }
    ]
   },
   "source": [
    "# Total Presubmissions\n",
    "\n",
    "Here we removed all issues that were help-wanted or issus with our templates that were not related to a software-review submission. As of today we have had \n",
    "\n",
    "* **{eval}`total_presubmissions` presubmission inquiries** and\n",
    "* **{eval}`total_reviews` review submissions**\n",
    "\n",
    "submitted to pyOpenSci."
   ]
  },
  {
   "cell_type": "markdown",
   "metadata": {
    "editable": true,
    "slideshow": {
     "slide_type": ""
    },
    "tags": []
   },
   "source": [
    "## Summary - Number of Issues by year"
   ]
  },
  {
   "cell_type": "code",
   "execution_count": 4,
   "metadata": {
    "editable": true,
    "slideshow": {
     "slide_type": ""
    },
    "tags": [
     "remove-input"
    ]
   },
   "outputs": [],
   "source": [
    "# Extract year and quarter from the 'date_opened' column\n",
    "\n",
    "valid_issues.loc[:, \"year_quarter\"] = valid_issues[\"date_opened\"].dt.to_period(\"Q\")\n",
    "quarterly_counts = (\n",
    "    valid_issues[\"year_quarter\"].value_counts().sort_index().reset_index()\n",
    ")\n",
    "\n",
    "quarterly_counts[\"year_quarter\"] = quarterly_counts[\"year_quarter\"].astype(str)"
   ]
  },
  {
   "cell_type": "code",
   "execution_count": 55,
   "metadata": {
    "editable": true,
    "slideshow": {
     "slide_type": ""
    },
    "tags": [
     "remove-input"
    ]
   },
   "outputs": [
    {
     "data": {
      "text/html": [
       "\n",
       "<style>\n",
       "  #altair-viz-a1e7087a61784a93bcb53d0cc4df3692.vega-embed {\n",
       "    width: 100%;\n",
       "    display: flex;\n",
       "  }\n",
       "\n",
       "  #altair-viz-a1e7087a61784a93bcb53d0cc4df3692.vega-embed details,\n",
       "  #altair-viz-a1e7087a61784a93bcb53d0cc4df3692.vega-embed details summary {\n",
       "    position: relative;\n",
       "  }\n",
       "</style>\n",
       "<div id=\"altair-viz-a1e7087a61784a93bcb53d0cc4df3692\"></div>\n",
       "<script type=\"text/javascript\">\n",
       "  var VEGA_DEBUG = (typeof VEGA_DEBUG == \"undefined\") ? {} : VEGA_DEBUG;\n",
       "  (function(spec, embedOpt){\n",
       "    let outputDiv = document.currentScript.previousElementSibling;\n",
       "    if (outputDiv.id !== \"altair-viz-a1e7087a61784a93bcb53d0cc4df3692\") {\n",
       "      outputDiv = document.getElementById(\"altair-viz-a1e7087a61784a93bcb53d0cc4df3692\");\n",
       "    }\n",
       "    const paths = {\n",
       "      \"vega\": \"https://cdn.jsdelivr.net/npm/vega@5?noext\",\n",
       "      \"vega-lib\": \"https://cdn.jsdelivr.net/npm/vega-lib?noext\",\n",
       "      \"vega-lite\": \"https://cdn.jsdelivr.net/npm/vega-lite@5.17.0?noext\",\n",
       "      \"vega-embed\": \"https://cdn.jsdelivr.net/npm/vega-embed@6?noext\",\n",
       "    };\n",
       "\n",
       "    function maybeLoadScript(lib, version) {\n",
       "      var key = `${lib.replace(\"-\", \"\")}_version`;\n",
       "      return (VEGA_DEBUG[key] == version) ?\n",
       "        Promise.resolve(paths[lib]) :\n",
       "        new Promise(function(resolve, reject) {\n",
       "          var s = document.createElement('script');\n",
       "          document.getElementsByTagName(\"head\")[0].appendChild(s);\n",
       "          s.async = true;\n",
       "          s.onload = () => {\n",
       "            VEGA_DEBUG[key] = version;\n",
       "            return resolve(paths[lib]);\n",
       "          };\n",
       "          s.onerror = () => reject(`Error loading script: ${paths[lib]}`);\n",
       "          s.src = paths[lib];\n",
       "        });\n",
       "    }\n",
       "\n",
       "    function showError(err) {\n",
       "      outputDiv.innerHTML = `<div class=\"error\" style=\"color:red;\">${err}</div>`;\n",
       "      throw err;\n",
       "    }\n",
       "\n",
       "    function displayChart(vegaEmbed) {\n",
       "      vegaEmbed(outputDiv, spec, embedOpt)\n",
       "        .catch(err => showError(`Javascript Error: ${err.message}<br>This usually means there's a typo in your chart specification. See the javascript console for the full traceback.`));\n",
       "    }\n",
       "\n",
       "    if(typeof define === \"function\" && define.amd) {\n",
       "      requirejs.config({paths});\n",
       "      require([\"vega-embed\"], displayChart, err => showError(`Error loading script: ${err.message}`));\n",
       "    } else {\n",
       "      maybeLoadScript(\"vega\", \"5\")\n",
       "        .then(() => maybeLoadScript(\"vega-lite\", \"5.17.0\"))\n",
       "        .then(() => maybeLoadScript(\"vega-embed\", \"6\"))\n",
       "        .catch(showError)\n",
       "        .then(() => displayChart(vegaEmbed));\n",
       "    }\n",
       "  })({\"config\": {\"view\": {\"continuousWidth\": 300, \"continuousHeight\": 300}, \"axis\": {}, \"title\": {\"anchor\": \"middle\", \"color\": \"black\", \"font\": \"Poppins\", \"fontSize\": 24}}, \"data\": {\"name\": \"data-de460717d795fbb620de681f85634183\"}, \"mark\": {\"type\": \"bar\", \"color\": \"purple\"}, \"encoding\": {\"tooltip\": [{\"field\": \"year_quarter\", \"title\": \"Quarter\", \"type\": \"ordinal\"}, {\"field\": \"count\", \"title\": \"Number of Issues\", \"type\": \"quantitative\"}], \"x\": {\"axis\": {\"labelAngle\": 0, \"labelExpr\": \"datum.label == '2019Q1' ? '2019 Q1' : \\n                datum.label == '2020Q1' ? '2020 Q1' : \\n                datum.label == '2021Q1' ? '2021 Q1' : \\n                datum.label == '2022Q1' ? '2022 Q1' :\\n                datum.label == '2023Q1' ? '2023 Q1' :\\n                datum.label == '2024Q1' ? '2024 Q1' :\\n                '' \", \"labelFontSize\": 14, \"titleFontSize\": 20}, \"field\": \"year_quarter\", \"title\": \"Year-Quarter\", \"type\": \"ordinal\"}, \"y\": {\"axis\": {\"labelFontSize\": 16, \"tickCount\": 5, \"titleFontSize\": 20}, \"field\": \"count\", \"title\": \"Number of Submissions\", \"type\": \"quantitative\"}}, \"height\": 400, \"title\": \"Number of Submissions by Quarter per Year\", \"width\": 600, \"$schema\": \"https://vega.github.io/schema/vega-lite/v5.17.0.json\", \"datasets\": {\"data-de460717d795fbb620de681f85634183\": [{\"year_quarter\": \"2019Q1\", \"count\": 1}, {\"year_quarter\": \"2019Q2\", \"count\": 6}, {\"year_quarter\": \"2019Q3\", \"count\": 2}, {\"year_quarter\": \"2019Q4\", \"count\": 4}, {\"year_quarter\": \"2020Q1\", \"count\": 5}, {\"year_quarter\": \"2020Q2\", \"count\": 1}, {\"year_quarter\": \"2020Q3\", \"count\": 2}, {\"year_quarter\": \"2020Q4\", \"count\": 3}, {\"year_quarter\": \"2021Q1\", \"count\": 6}, {\"year_quarter\": \"2021Q2\", \"count\": 3}, {\"year_quarter\": \"2021Q3\", \"count\": 4}, {\"year_quarter\": \"2021Q4\", \"count\": 4}, {\"year_quarter\": \"2022Q1\", \"count\": 1}, {\"year_quarter\": \"2022Q2\", \"count\": 2}, {\"year_quarter\": \"2022Q3\", \"count\": 4}, {\"year_quarter\": \"2022Q4\", \"count\": 2}, {\"year_quarter\": \"2023Q1\", \"count\": 10}, {\"year_quarter\": \"2023Q2\", \"count\": 9}, {\"year_quarter\": \"2023Q3\", \"count\": 13}, {\"year_quarter\": \"2023Q4\", \"count\": 13}, {\"year_quarter\": \"2024Q1\", \"count\": 13}, {\"year_quarter\": \"2024Q2\", \"count\": 19}]}}, {\"mode\": \"vega-lite\"});\n",
       "</script>"
      ],
      "text/plain": [
       "alt.Chart(...)"
      ]
     },
     "metadata": {},
     "output_type": "display_data"
    }
   ],
   "source": [
    "# Create the Altair plot\n",
    "axis_labels = \"\"\"datum.label == '2019Q1' ? '2019 Q1' : \n",
    "                datum.label == '2020Q1' ? '2020 Q1' : \n",
    "                datum.label == '2021Q1' ? '2021 Q1' : \n",
    "                datum.label == '2022Q1' ? '2022 Q1' :\n",
    "                datum.label == '2023Q1' ? '2023 Q1' :\n",
    "                datum.label == '2024Q1' ? '2024 Q1' :\n",
    "                '' \"\"\"\n",
    "chart = (\n",
    "    alt.Chart(quarterly_counts)\n",
    "    .mark_bar(color=\"purple\")\n",
    "    .encode(\n",
    "        x=alt.X(\n",
    "            \"year_quarter:O\",\n",
    "            title=\"Year-Quarter\",\n",
    "            axis=alt.Axis(\n",
    "                labelFontSize=14,\n",
    "                titleFontSize=20,\n",
    "                labelAngle=0,\n",
    "                labelExpr=axis_labels,\n",
    "                # tickCount=4,\n",
    "                # tvalues=[\n",
    "                #     \"2019-Q1\",\n",
    "                #     \"2020-Q1\",\n",
    "                #     \"2020-Q1\",\n",
    "                #     \"2020-Q1\",\n",
    "                #     \"2020-Q1\",\n",
    "                #     \"2024-Q1\",\n",
    "                # ],\n",
    "            ),\n",
    "        ),\n",
    "        y=alt.Y(\n",
    "            \"count:Q\",\n",
    "            title=\"Number of Submissions\",\n",
    "            axis=alt.Axis(labelFontSize=16, titleFontSize=20, tickCount=5),\n",
    "        ),\n",
    "        tooltip=[\n",
    "            alt.Tooltip(\"year_quarter:O\", title=\"Quarter\"),\n",
    "            alt.Tooltip(\"count:Q\", title=\"Number of Issues\"),\n",
    "        ],\n",
    "    )\n",
    "    .properties(\n",
    "        title=\"Number of Submissions by Quarter per Year\",\n",
    "        width=600,\n",
    "        height=400,\n",
    "    )\n",
    "    .configure_axis(\n",
    "        # labelAngle=-45\n",
    "    )\n",
    "    .configure_title(fontSize=24, font=\"Poppins\", anchor=\"middle\", color=\"black\")\n",
    ")\n",
    "\n",
    "chart.show()"
   ]
  },
  {
   "cell_type": "code",
   "execution_count": 6,
   "metadata": {
    "editable": true,
    "slideshow": {
     "slide_type": ""
    },
    "tags": [
     "remove-input"
    ]
   },
   "outputs": [],
   "source": [
    "# Group issues by year and get counts\n",
    "annual_issues = valid_issues.copy()\n",
    "\n",
    "# Create a new column 'year' by extracting the year from the 'date_opened' column\n",
    "annual_issues.loc[:, \"year\"] = annual_issues[\"date_opened\"].dt.year"
   ]
  },
  {
   "cell_type": "code",
   "execution_count": 7,
   "metadata": {
    "editable": true,
    "slideshow": {
     "slide_type": ""
    },
    "tags": [
     "remove-input"
    ]
   },
   "outputs": [],
   "source": [
    "# Add year / month\n",
    "annual_issues[\"year_month\"] = annual_issues[\"date_opened\"].dt.to_period(\"M\")\n",
    "counts_month_year = annual_issues.groupby(\"year_month\").size().reset_index(name=\"count\")"
   ]
  },
  {
   "cell_type": "code",
   "execution_count": 8,
   "metadata": {
    "editable": true,
    "slideshow": {
     "slide_type": ""
    },
    "tags": [
     "remove-input"
    ]
   },
   "outputs": [],
   "source": [
    "# Create a complete range of year_month periods\n",
    "# Note i use this below - don't have to recalculate\n",
    "all_month_years = pd.period_range(\n",
    "    start=counts_month_year[\"year_month\"].min(),\n",
    "    end=counts_month_year[\"year_month\"].max(),\n",
    "    freq=\"M\",\n",
    ")"
   ]
  },
  {
   "cell_type": "code",
   "execution_count": 9,
   "metadata": {
    "editable": true,
    "slideshow": {
     "slide_type": ""
    },
    "tags": [
     "remove-input"
    ]
   },
   "outputs": [],
   "source": [
    "issues_by_year = (\n",
    "    annual_issues.groupby(\"year\")\n",
    "    .size()\n",
    "    .reset_index(name=\"count\")\n",
    "    .sort_values(by=\"year\", ascending=False)\n",
    "    .reset_index(drop=True)\n",
    ")"
   ]
  },
  {
   "cell_type": "code",
   "execution_count": 56,
   "metadata": {
    "editable": true,
    "slideshow": {
     "slide_type": ""
    },
    "tags": [
     "remove-input"
    ]
   },
   "outputs": [
    {
     "data": {
      "text/html": [
       "\n",
       "<style>\n",
       "  #altair-viz-6cb934889bf2420ba5ce6206621ad1c6.vega-embed {\n",
       "    width: 100%;\n",
       "    display: flex;\n",
       "  }\n",
       "\n",
       "  #altair-viz-6cb934889bf2420ba5ce6206621ad1c6.vega-embed details,\n",
       "  #altair-viz-6cb934889bf2420ba5ce6206621ad1c6.vega-embed details summary {\n",
       "    position: relative;\n",
       "  }\n",
       "</style>\n",
       "<div id=\"altair-viz-6cb934889bf2420ba5ce6206621ad1c6\"></div>\n",
       "<script type=\"text/javascript\">\n",
       "  var VEGA_DEBUG = (typeof VEGA_DEBUG == \"undefined\") ? {} : VEGA_DEBUG;\n",
       "  (function(spec, embedOpt){\n",
       "    let outputDiv = document.currentScript.previousElementSibling;\n",
       "    if (outputDiv.id !== \"altair-viz-6cb934889bf2420ba5ce6206621ad1c6\") {\n",
       "      outputDiv = document.getElementById(\"altair-viz-6cb934889bf2420ba5ce6206621ad1c6\");\n",
       "    }\n",
       "    const paths = {\n",
       "      \"vega\": \"https://cdn.jsdelivr.net/npm/vega@5?noext\",\n",
       "      \"vega-lib\": \"https://cdn.jsdelivr.net/npm/vega-lib?noext\",\n",
       "      \"vega-lite\": \"https://cdn.jsdelivr.net/npm/vega-lite@5.17.0?noext\",\n",
       "      \"vega-embed\": \"https://cdn.jsdelivr.net/npm/vega-embed@6?noext\",\n",
       "    };\n",
       "\n",
       "    function maybeLoadScript(lib, version) {\n",
       "      var key = `${lib.replace(\"-\", \"\")}_version`;\n",
       "      return (VEGA_DEBUG[key] == version) ?\n",
       "        Promise.resolve(paths[lib]) :\n",
       "        new Promise(function(resolve, reject) {\n",
       "          var s = document.createElement('script');\n",
       "          document.getElementsByTagName(\"head\")[0].appendChild(s);\n",
       "          s.async = true;\n",
       "          s.onload = () => {\n",
       "            VEGA_DEBUG[key] = version;\n",
       "            return resolve(paths[lib]);\n",
       "          };\n",
       "          s.onerror = () => reject(`Error loading script: ${paths[lib]}`);\n",
       "          s.src = paths[lib];\n",
       "        });\n",
       "    }\n",
       "\n",
       "    function showError(err) {\n",
       "      outputDiv.innerHTML = `<div class=\"error\" style=\"color:red;\">${err}</div>`;\n",
       "      throw err;\n",
       "    }\n",
       "\n",
       "    function displayChart(vegaEmbed) {\n",
       "      vegaEmbed(outputDiv, spec, embedOpt)\n",
       "        .catch(err => showError(`Javascript Error: ${err.message}<br>This usually means there's a typo in your chart specification. See the javascript console for the full traceback.`));\n",
       "    }\n",
       "\n",
       "    if(typeof define === \"function\" && define.amd) {\n",
       "      requirejs.config({paths});\n",
       "      require([\"vega-embed\"], displayChart, err => showError(`Error loading script: ${err.message}`));\n",
       "    } else {\n",
       "      maybeLoadScript(\"vega\", \"5\")\n",
       "        .then(() => maybeLoadScript(\"vega-lite\", \"5.17.0\"))\n",
       "        .then(() => maybeLoadScript(\"vega-embed\", \"6\"))\n",
       "        .catch(showError)\n",
       "        .then(() => displayChart(vegaEmbed));\n",
       "    }\n",
       "  })({\"config\": {\"view\": {\"continuousWidth\": 300, \"continuousHeight\": 300}}, \"data\": {\"name\": \"data-68da80d1e36db8cb78b76fb3cbc84d04\"}, \"mark\": {\"type\": \"bar\", \"color\": \"purple\"}, \"encoding\": {\"tooltip\": [{\"field\": \"year\", \"type\": \"quantitative\"}, {\"field\": \"count\", \"type\": \"quantitative\"}], \"x\": {\"axis\": {\"labelAngle\": 0, \"labelFontSize\": 14, \"titleFontSize\": 18}, \"field\": \"year\", \"sort\": {\"field\": \"year\", \"order\": \"ascending\"}, \"type\": \"ordinal\"}, \"y\": {\"axis\": {\"labelFontSize\": 14, \"titleFontSize\": 18}, \"field\": \"count\", \"type\": \"quantitative\"}}, \"title\": {\"text\": \"pyOpenSci -- Number of Issues by Year\", \"fontSize\": 24}, \"width\": 600, \"$schema\": \"https://vega.github.io/schema/vega-lite/v5.17.0.json\", \"datasets\": {\"data-68da80d1e36db8cb78b76fb3cbc84d04\": [{\"year\": 2024, \"count\": 32}, {\"year\": 2023, \"count\": 45}, {\"year\": 2022, \"count\": 9}, {\"year\": 2021, \"count\": 17}, {\"year\": 2020, \"count\": 11}, {\"year\": 2019, \"count\": 13}]}}, {\"mode\": \"vega-lite\"});\n",
       "</script>"
      ],
      "text/plain": [
       "alt.Chart(...)"
      ]
     },
     "metadata": {},
     "output_type": "display_data"
    }
   ],
   "source": [
    "# Create an Altair bar chart\n",
    "chart = (\n",
    "    alt.Chart(issues_by_year)\n",
    "    .mark_bar(color=\"purple\")\n",
    "    .encode(\n",
    "        x=alt.X(\n",
    "            \"year:O\",\n",
    "            axis=alt.Axis(labelAngle=0, labelFontSize=14, titleFontSize=18),\n",
    "            sort=alt.EncodingSortField(field=\"year\", order=\"ascending\"),\n",
    "        ),\n",
    "        y=alt.Y(\n",
    "            \"count:Q\",\n",
    "            axis=alt.Axis(labelFontSize=14, titleFontSize=18),\n",
    "        ),\n",
    "        tooltip=[\"year\", \"count\"],\n",
    "    )\n",
    "    .properties(\n",
    "        title=alt.TitleParams(\n",
    "            text=\"pyOpenSci -- Number of Issues by Year\", fontSize=24\n",
    "        ),\n",
    "        width=600,\n",
    "    )\n",
    ")\n",
    "\n",
    "chart.show()"
   ]
  },
  {
   "cell_type": "code",
   "execution_count": 11,
   "metadata": {
    "editable": true,
    "jupyter": {
     "source_hidden": true
    },
    "slideshow": {
     "slide_type": ""
    },
    "tags": [
     "remove-input"
    ]
   },
   "outputs": [],
   "source": [
    "# Get fill in months with no issues with a value of 0\n",
    "month_year_counts = (\n",
    "    counts_month_year.set_index(\"year_month\")\n",
    "    .reindex(all_month_years, fill_value=0)\n",
    "    .rename_axis(\"year_month\")\n",
    "    .reset_index()\n",
    ")"
   ]
  },
  {
   "cell_type": "markdown",
   "metadata": {
    "editable": true,
    "slideshow": {
     "slide_type": ""
    },
    "tags": []
   },
   "source": [
    "# Summary: issues by month / year\n",
    "\n",
    "Below you can see scientific Python peer review issues submitted by month since 2019. "
   ]
  },
  {
   "cell_type": "code",
   "execution_count": 12,
   "metadata": {
    "editable": true,
    "slideshow": {
     "slide_type": ""
    },
    "tags": [
     "remove-input"
    ]
   },
   "outputs": [],
   "source": [
    "# Split year_month into separate year and month columns\n",
    "month_year_counts[\"year\"] = month_year_counts[\"year_month\"].dt.year\n",
    "month_year_counts[\"month\"] = month_year_counts[\"year_month\"].dt.strftime(\"%b\")\n",
    "month_year_counts[\"month_cat\"] = pd.Categorical(\n",
    "    month_year_counts[\"month\"],\n",
    "    categories=[\n",
    "        \"Jan\",\n",
    "        \"Feb\",\n",
    "        \"Mar\",\n",
    "        \"Apr\",\n",
    "        \"May\",\n",
    "        \"Jun\",\n",
    "        \"Jul\",\n",
    "        \"Aug\",\n",
    "        \"Sep\",\n",
    "        \"Oct\",\n",
    "        \"Nov\",\n",
    "        \"Dec\",\n",
    "    ],\n",
    "    ordered=True,\n",
    ")\n",
    "month_year_counts = month_year_counts.drop(columns=[\"year_month\"])"
   ]
  },
  {
   "cell_type": "markdown",
   "metadata": {},
   "source": [
    "## Peer review cadence -- slower months \n",
    "\n",
    "Historically since 2019 July and December  have been slower months. These could be ideal times for us to take a peer review breather, not accept new reviews, and catch up on business and documentation items. "
   ]
  },
  {
   "cell_type": "code",
   "execution_count": 57,
   "metadata": {
    "editable": true,
    "slideshow": {
     "slide_type": ""
    },
    "tags": [
     "remove-input"
    ]
   },
   "outputs": [
    {
     "data": {
      "text/html": [
       "\n",
       "<style>\n",
       "  #altair-viz-d56d921008c74530906ebe860e947bcb.vega-embed {\n",
       "    width: 100%;\n",
       "    display: flex;\n",
       "  }\n",
       "\n",
       "  #altair-viz-d56d921008c74530906ebe860e947bcb.vega-embed details,\n",
       "  #altair-viz-d56d921008c74530906ebe860e947bcb.vega-embed details summary {\n",
       "    position: relative;\n",
       "  }\n",
       "</style>\n",
       "<div id=\"altair-viz-d56d921008c74530906ebe860e947bcb\"></div>\n",
       "<script type=\"text/javascript\">\n",
       "  var VEGA_DEBUG = (typeof VEGA_DEBUG == \"undefined\") ? {} : VEGA_DEBUG;\n",
       "  (function(spec, embedOpt){\n",
       "    let outputDiv = document.currentScript.previousElementSibling;\n",
       "    if (outputDiv.id !== \"altair-viz-d56d921008c74530906ebe860e947bcb\") {\n",
       "      outputDiv = document.getElementById(\"altair-viz-d56d921008c74530906ebe860e947bcb\");\n",
       "    }\n",
       "    const paths = {\n",
       "      \"vega\": \"https://cdn.jsdelivr.net/npm/vega@5?noext\",\n",
       "      \"vega-lib\": \"https://cdn.jsdelivr.net/npm/vega-lib?noext\",\n",
       "      \"vega-lite\": \"https://cdn.jsdelivr.net/npm/vega-lite@5.17.0?noext\",\n",
       "      \"vega-embed\": \"https://cdn.jsdelivr.net/npm/vega-embed@6?noext\",\n",
       "    };\n",
       "\n",
       "    function maybeLoadScript(lib, version) {\n",
       "      var key = `${lib.replace(\"-\", \"\")}_version`;\n",
       "      return (VEGA_DEBUG[key] == version) ?\n",
       "        Promise.resolve(paths[lib]) :\n",
       "        new Promise(function(resolve, reject) {\n",
       "          var s = document.createElement('script');\n",
       "          document.getElementsByTagName(\"head\")[0].appendChild(s);\n",
       "          s.async = true;\n",
       "          s.onload = () => {\n",
       "            VEGA_DEBUG[key] = version;\n",
       "            return resolve(paths[lib]);\n",
       "          };\n",
       "          s.onerror = () => reject(`Error loading script: ${paths[lib]}`);\n",
       "          s.src = paths[lib];\n",
       "        });\n",
       "    }\n",
       "\n",
       "    function showError(err) {\n",
       "      outputDiv.innerHTML = `<div class=\"error\" style=\"color:red;\">${err}</div>`;\n",
       "      throw err;\n",
       "    }\n",
       "\n",
       "    function displayChart(vegaEmbed) {\n",
       "      vegaEmbed(outputDiv, spec, embedOpt)\n",
       "        .catch(err => showError(`Javascript Error: ${err.message}<br>This usually means there's a typo in your chart specification. See the javascript console for the full traceback.`));\n",
       "    }\n",
       "\n",
       "    if(typeof define === \"function\" && define.amd) {\n",
       "      requirejs.config({paths});\n",
       "      require([\"vega-embed\"], displayChart, err => showError(`Error loading script: ${err.message}`));\n",
       "    } else {\n",
       "      maybeLoadScript(\"vega\", \"5\")\n",
       "        .then(() => maybeLoadScript(\"vega-lite\", \"5.17.0\"))\n",
       "        .then(() => maybeLoadScript(\"vega-embed\", \"6\"))\n",
       "        .catch(showError)\n",
       "        .then(() => displayChart(vegaEmbed));\n",
       "    }\n",
       "  })({\"config\": {\"view\": {\"continuousWidth\": 300, \"continuousHeight\": 300}, \"axis\": {\"labelAngle\": 0}}, \"data\": {\"name\": \"data-f572b16179a0c8298bbd46fe227907dc\"}, \"mark\": {\"type\": \"bar\", \"color\": \"purple\"}, \"encoding\": {\"tooltip\": [{\"field\": \"month\", \"type\": \"nominal\"}, {\"field\": \"count\", \"type\": \"quantitative\"}], \"x\": {\"field\": \"month\", \"sort\": [\"Jan\", \"Feb\", \"Mar\", \"Apr\", \"May\", \"Jun\", \"Jul\", \"Aug\", \"Sep\", \"Oct\", \"Nov\", \"Dec\"], \"type\": \"nominal\"}, \"y\": {\"field\": \"count\", \"type\": \"quantitative\"}}, \"height\": 400, \"title\": \"Total Counts per Month (2019-2024)\", \"width\": 600, \"$schema\": \"https://vega.github.io/schema/vega-lite/v5.17.0.json\", \"datasets\": {\"data-f572b16179a0c8298bbd46fe227907dc\": [{\"month\": \"Jan\", \"count\": 10}, {\"month\": \"Feb\", \"count\": 9}, {\"month\": \"Mar\", \"count\": 17}, {\"month\": \"Apr\", \"count\": 12}, {\"month\": \"May\", \"count\": 20}, {\"month\": \"Jun\", \"count\": 8}, {\"month\": \"Jul\", \"count\": 6}, {\"month\": \"Aug\", \"count\": 8}, {\"month\": \"Sep\", \"count\": 11}, {\"month\": \"Oct\", \"count\": 9}, {\"month\": \"Nov\", \"count\": 9}, {\"month\": \"Dec\", \"count\": 8}]}}, {\"mode\": \"vega-lite\"});\n",
       "</script>"
      ],
      "text/plain": [
       "alt.Chart(...)"
      ]
     },
     "metadata": {},
     "output_type": "display_data"
    }
   ],
   "source": [
    "month_year_counts\n",
    "\n",
    "# Summarize total counts per month\n",
    "monthly_counts = (\n",
    "    month_year_counts.groupby(\"month\")[\"count\"]\n",
    "    .sum()\n",
    "    .reindex(\n",
    "        [\n",
    "            \"Jan\",\n",
    "            \"Feb\",\n",
    "            \"Mar\",\n",
    "            \"Apr\",\n",
    "            \"May\",\n",
    "            \"Jun\",\n",
    "            \"Jul\",\n",
    "            \"Aug\",\n",
    "            \"Sep\",\n",
    "            \"Oct\",\n",
    "            \"Nov\",\n",
    "            \"Dec\",\n",
    "        ],\n",
    "        fill_value=0,\n",
    "    )\n",
    "    .reset_index()\n",
    ")\n",
    "\n",
    "# Create the Altair plot\n",
    "chart = (\n",
    "    alt.Chart(monthly_counts)\n",
    "    .mark_bar(color=\"purple\")\n",
    "    .encode(\n",
    "        x=alt.X(\n",
    "            \"month\",\n",
    "            sort=[\n",
    "                \"Jan\",\n",
    "                \"Feb\",\n",
    "                \"Mar\",\n",
    "                \"Apr\",\n",
    "                \"May\",\n",
    "                \"Jun\",\n",
    "                \"Jul\",\n",
    "                \"Aug\",\n",
    "                \"Sep\",\n",
    "                \"Oct\",\n",
    "                \"Nov\",\n",
    "                \"Dec\",\n",
    "            ],\n",
    "        ),\n",
    "        y=\"count\",\n",
    "        tooltip=[\"month\", \"count\"],\n",
    "    )\n",
    "    .properties(title=\"Total Counts per Month (2019-2024)\", width=600, height=400)\n",
    "    .configure_axis(labelAngle=0)\n",
    ")\n",
    "\n",
    "chart.show()"
   ]
  },
  {
   "cell_type": "markdown",
   "metadata": {
    "editable": true,
    "slideshow": {
     "slide_type": ""
    },
    "tags": []
   },
   "source": [
    "## Monthly patterns\n",
    "\n",
    "which months are most popular?"
   ]
  },
  {
   "cell_type": "code",
   "execution_count": 14,
   "metadata": {
    "editable": true,
    "slideshow": {
     "slide_type": ""
    },
    "tags": [
     "remove-input"
    ]
   },
   "outputs": [
    {
     "data": {
      "text/html": [
       "\n",
       "<style>\n",
       "  #altair-viz-8baaef9c326046218811326245e10e2c.vega-embed {\n",
       "    width: 100%;\n",
       "    display: flex;\n",
       "  }\n",
       "\n",
       "  #altair-viz-8baaef9c326046218811326245e10e2c.vega-embed details,\n",
       "  #altair-viz-8baaef9c326046218811326245e10e2c.vega-embed details summary {\n",
       "    position: relative;\n",
       "  }\n",
       "</style>\n",
       "<div id=\"altair-viz-8baaef9c326046218811326245e10e2c\"></div>\n",
       "<script type=\"text/javascript\">\n",
       "  var VEGA_DEBUG = (typeof VEGA_DEBUG == \"undefined\") ? {} : VEGA_DEBUG;\n",
       "  (function(spec, embedOpt){\n",
       "    let outputDiv = document.currentScript.previousElementSibling;\n",
       "    if (outputDiv.id !== \"altair-viz-8baaef9c326046218811326245e10e2c\") {\n",
       "      outputDiv = document.getElementById(\"altair-viz-8baaef9c326046218811326245e10e2c\");\n",
       "    }\n",
       "    const paths = {\n",
       "      \"vega\": \"https://cdn.jsdelivr.net/npm/vega@5?noext\",\n",
       "      \"vega-lib\": \"https://cdn.jsdelivr.net/npm/vega-lib?noext\",\n",
       "      \"vega-lite\": \"https://cdn.jsdelivr.net/npm/vega-lite@5.17.0?noext\",\n",
       "      \"vega-embed\": \"https://cdn.jsdelivr.net/npm/vega-embed@6?noext\",\n",
       "    };\n",
       "\n",
       "    function maybeLoadScript(lib, version) {\n",
       "      var key = `${lib.replace(\"-\", \"\")}_version`;\n",
       "      return (VEGA_DEBUG[key] == version) ?\n",
       "        Promise.resolve(paths[lib]) :\n",
       "        new Promise(function(resolve, reject) {\n",
       "          var s = document.createElement('script');\n",
       "          document.getElementsByTagName(\"head\")[0].appendChild(s);\n",
       "          s.async = true;\n",
       "          s.onload = () => {\n",
       "            VEGA_DEBUG[key] = version;\n",
       "            return resolve(paths[lib]);\n",
       "          };\n",
       "          s.onerror = () => reject(`Error loading script: ${paths[lib]}`);\n",
       "          s.src = paths[lib];\n",
       "        });\n",
       "    }\n",
       "\n",
       "    function showError(err) {\n",
       "      outputDiv.innerHTML = `<div class=\"error\" style=\"color:red;\">${err}</div>`;\n",
       "      throw err;\n",
       "    }\n",
       "\n",
       "    function displayChart(vegaEmbed) {\n",
       "      vegaEmbed(outputDiv, spec, embedOpt)\n",
       "        .catch(err => showError(`Javascript Error: ${err.message}<br>This usually means there's a typo in your chart specification. See the javascript console for the full traceback.`));\n",
       "    }\n",
       "\n",
       "    if(typeof define === \"function\" && define.amd) {\n",
       "      requirejs.config({paths});\n",
       "      require([\"vega-embed\"], displayChart, err => showError(`Error loading script: ${err.message}`));\n",
       "    } else {\n",
       "      maybeLoadScript(\"vega\", \"5\")\n",
       "        .then(() => maybeLoadScript(\"vega-lite\", \"5.17.0\"))\n",
       "        .then(() => maybeLoadScript(\"vega-embed\", \"6\"))\n",
       "        .catch(showError)\n",
       "        .then(() => displayChart(vegaEmbed));\n",
       "    }\n",
       "  })({\"config\": {\"view\": {\"continuousWidth\": 300, \"continuousHeight\": 300}}, \"data\": {\"name\": \"data-1cd01dd512da71ba26ba9bbb419a7281\"}, \"facet\": {\"field\": \"year\", \"header\": {\"labelAngle\": 0}, \"sort\": \"descending\", \"title\": \"Year\", \"type\": \"nominal\"}, \"spec\": {\"mark\": {\"type\": \"bar\"}, \"encoding\": {\"color\": {\"field\": \"year\", \"scale\": {\"scheme\": \"bluepurple\"}, \"type\": \"nominal\"}, \"x\": {\"field\": \"month\", \"sort\": [\"Jan\", \"Feb\", \"Mar\", \"Apr\", \"May\", \"Jun\", \"Jul\", \"Aug\", \"Sep\", \"Oct\", \"Nov\", \"Dec\"], \"title\": \"Month\", \"type\": \"nominal\"}, \"y\": {\"field\": \"count\", \"title\": \"Number of Issues\", \"type\": \"quantitative\"}}, \"height\": 300, \"title\": \"Number of Issues Per Month and Year\", \"width\": 200}, \"columns\": 3, \"$schema\": \"https://vega.github.io/schema/vega-lite/v5.17.0.json\", \"datasets\": {\"data-1cd01dd512da71ba26ba9bbb419a7281\": [{\"count\": 1, \"year\": 2019, \"month\": \"Mar\", \"month_cat\": \"Mar\"}, {\"count\": 0, \"year\": 2019, \"month\": \"Apr\", \"month_cat\": \"Apr\"}, {\"count\": 6, \"year\": 2019, \"month\": \"May\", \"month_cat\": \"May\"}, {\"count\": 0, \"year\": 2019, \"month\": \"Jun\", \"month_cat\": \"Jun\"}, {\"count\": 0, \"year\": 2019, \"month\": \"Jul\", \"month_cat\": \"Jul\"}, {\"count\": 2, \"year\": 2019, \"month\": \"Aug\", \"month_cat\": \"Aug\"}, {\"count\": 0, \"year\": 2019, \"month\": \"Sep\", \"month_cat\": \"Sep\"}, {\"count\": 0, \"year\": 2019, \"month\": \"Oct\", \"month_cat\": \"Oct\"}, {\"count\": 2, \"year\": 2019, \"month\": \"Nov\", \"month_cat\": \"Nov\"}, {\"count\": 2, \"year\": 2019, \"month\": \"Dec\", \"month_cat\": \"Dec\"}, {\"count\": 2, \"year\": 2020, \"month\": \"Jan\", \"month_cat\": \"Jan\"}, {\"count\": 1, \"year\": 2020, \"month\": \"Feb\", \"month_cat\": \"Feb\"}, {\"count\": 2, \"year\": 2020, \"month\": \"Mar\", \"month_cat\": \"Mar\"}, {\"count\": 0, \"year\": 2020, \"month\": \"Apr\", \"month_cat\": \"Apr\"}, {\"count\": 1, \"year\": 2020, \"month\": \"May\", \"month_cat\": \"May\"}, {\"count\": 0, \"year\": 2020, \"month\": \"Jun\", \"month_cat\": \"Jun\"}, {\"count\": 2, \"year\": 2020, \"month\": \"Jul\", \"month_cat\": \"Jul\"}, {\"count\": 0, \"year\": 2020, \"month\": \"Aug\", \"month_cat\": \"Aug\"}, {\"count\": 0, \"year\": 2020, \"month\": \"Sep\", \"month_cat\": \"Sep\"}, {\"count\": 1, \"year\": 2020, \"month\": \"Oct\", \"month_cat\": \"Oct\"}, {\"count\": 1, \"year\": 2020, \"month\": \"Nov\", \"month_cat\": \"Nov\"}, {\"count\": 1, \"year\": 2020, \"month\": \"Dec\", \"month_cat\": \"Dec\"}, {\"count\": 1, \"year\": 2021, \"month\": \"Jan\", \"month_cat\": \"Jan\"}, {\"count\": 0, \"year\": 2021, \"month\": \"Feb\", \"month_cat\": \"Feb\"}, {\"count\": 5, \"year\": 2021, \"month\": \"Mar\", \"month_cat\": \"Mar\"}, {\"count\": 1, \"year\": 2021, \"month\": \"Apr\", \"month_cat\": \"Apr\"}, {\"count\": 1, \"year\": 2021, \"month\": \"May\", \"month_cat\": \"May\"}, {\"count\": 1, \"year\": 2021, \"month\": \"Jun\", \"month_cat\": \"Jun\"}, {\"count\": 2, \"year\": 2021, \"month\": \"Jul\", \"month_cat\": \"Jul\"}, {\"count\": 1, \"year\": 2021, \"month\": \"Aug\", \"month_cat\": \"Aug\"}, {\"count\": 1, \"year\": 2021, \"month\": \"Sep\", \"month_cat\": \"Sep\"}, {\"count\": 0, \"year\": 2021, \"month\": \"Oct\", \"month_cat\": \"Oct\"}, {\"count\": 3, \"year\": 2021, \"month\": \"Nov\", \"month_cat\": \"Nov\"}, {\"count\": 1, \"year\": 2021, \"month\": \"Dec\", \"month_cat\": \"Dec\"}, {\"count\": 0, \"year\": 2022, \"month\": \"Jan\", \"month_cat\": \"Jan\"}, {\"count\": 1, \"year\": 2022, \"month\": \"Feb\", \"month_cat\": \"Feb\"}, {\"count\": 0, \"year\": 2022, \"month\": \"Mar\", \"month_cat\": \"Mar\"}, {\"count\": 1, \"year\": 2022, \"month\": \"Apr\", \"month_cat\": \"Apr\"}, {\"count\": 0, \"year\": 2022, \"month\": \"May\", \"month_cat\": \"May\"}, {\"count\": 1, \"year\": 2022, \"month\": \"Jun\", \"month_cat\": \"Jun\"}, {\"count\": 0, \"year\": 2022, \"month\": \"Jul\", \"month_cat\": \"Jul\"}, {\"count\": 0, \"year\": 2022, \"month\": \"Aug\", \"month_cat\": \"Aug\"}, {\"count\": 4, \"year\": 2022, \"month\": \"Sep\", \"month_cat\": \"Sep\"}, {\"count\": 0, \"year\": 2022, \"month\": \"Oct\", \"month_cat\": \"Oct\"}, {\"count\": 0, \"year\": 2022, \"month\": \"Nov\", \"month_cat\": \"Nov\"}, {\"count\": 2, \"year\": 2022, \"month\": \"Dec\", \"month_cat\": \"Dec\"}, {\"count\": 3, \"year\": 2023, \"month\": \"Jan\", \"month_cat\": \"Jan\"}, {\"count\": 3, \"year\": 2023, \"month\": \"Feb\", \"month_cat\": \"Feb\"}, {\"count\": 4, \"year\": 2023, \"month\": \"Mar\", \"month_cat\": \"Mar\"}, {\"count\": 4, \"year\": 2023, \"month\": \"Apr\", \"month_cat\": \"Apr\"}, {\"count\": 3, \"year\": 2023, \"month\": \"May\", \"month_cat\": \"May\"}, {\"count\": 2, \"year\": 2023, \"month\": \"Jun\", \"month_cat\": \"Jun\"}, {\"count\": 2, \"year\": 2023, \"month\": \"Jul\", \"month_cat\": \"Jul\"}, {\"count\": 5, \"year\": 2023, \"month\": \"Aug\", \"month_cat\": \"Aug\"}, {\"count\": 6, \"year\": 2023, \"month\": \"Sep\", \"month_cat\": \"Sep\"}, {\"count\": 8, \"year\": 2023, \"month\": \"Oct\", \"month_cat\": \"Oct\"}, {\"count\": 3, \"year\": 2023, \"month\": \"Nov\", \"month_cat\": \"Nov\"}, {\"count\": 2, \"year\": 2023, \"month\": \"Dec\", \"month_cat\": \"Dec\"}, {\"count\": 4, \"year\": 2024, \"month\": \"Jan\", \"month_cat\": \"Jan\"}, {\"count\": 4, \"year\": 2024, \"month\": \"Feb\", \"month_cat\": \"Feb\"}, {\"count\": 5, \"year\": 2024, \"month\": \"Mar\", \"month_cat\": \"Mar\"}, {\"count\": 6, \"year\": 2024, \"month\": \"Apr\", \"month_cat\": \"Apr\"}, {\"count\": 9, \"year\": 2024, \"month\": \"May\", \"month_cat\": \"May\"}, {\"count\": 4, \"year\": 2024, \"month\": \"Jun\", \"month_cat\": \"Jun\"}]}}, {\"mode\": \"vega-lite\"});\n",
       "</script>"
      ],
      "text/plain": [
       "alt.FacetChart(...)"
      ]
     },
     "metadata": {},
     "output_type": "display_data"
    }
   ],
   "source": [
    "# Create an Altair bar plot with a grid layout\n",
    "chart = (\n",
    "    alt.Chart(month_year_counts)\n",
    "    .mark_bar()\n",
    "    .encode(\n",
    "        x=alt.X(\n",
    "            \"month:N\",\n",
    "            title=\"Month\",\n",
    "            sort=[\n",
    "                \"Jan\",\n",
    "                \"Feb\",\n",
    "                \"Mar\",\n",
    "                \"Apr\",\n",
    "                \"May\",\n",
    "                \"Jun\",\n",
    "                \"Jul\",\n",
    "                \"Aug\",\n",
    "                \"Sep\",\n",
    "                \"Oct\",\n",
    "                \"Nov\",\n",
    "                \"Dec\",\n",
    "            ],\n",
    "        ),\n",
    "        y=alt.Y(\"count:Q\", title=\"Number of Issues\"),\n",
    "        color=alt.Color(\"year:N\", scale=alt.Scale(scheme=\"bluepurple\")),\n",
    "    )\n",
    "    .properties(width=200, height=300, title=\"Number of Issues Per Month and Year\")\n",
    "    .facet(\n",
    "        facet=alt.Facet(\n",
    "            \"year:N\",\n",
    "            title=\"Year\",\n",
    "            sort=\"descending\",\n",
    "            header=alt.Header(labelAngle=0),\n",
    "        ),\n",
    "        columns=3,\n",
    "    )\n",
    ")\n",
    "\n",
    "chart.show()"
   ]
  },
  {
   "cell_type": "markdown",
   "metadata": {
    "editable": true,
    "slideshow": {
     "slide_type": ""
    },
    "tags": []
   },
   "source": [
    "## Monthly Trends\n",
    "\n",
    "Things seem to slow down in July and then again around the holidays --  November / December."
   ]
  },
  {
   "cell_type": "code",
   "execution_count": 15,
   "metadata": {
    "editable": true,
    "slideshow": {
     "slide_type": ""
    },
    "tags": [
     "remove-input"
    ]
   },
   "outputs": [
    {
     "data": {
      "text/html": [
       "\n",
       "<style>\n",
       "  #altair-viz-c51df6daaf1a4500bb428cf8a021a58c.vega-embed {\n",
       "    width: 100%;\n",
       "    display: flex;\n",
       "  }\n",
       "\n",
       "  #altair-viz-c51df6daaf1a4500bb428cf8a021a58c.vega-embed details,\n",
       "  #altair-viz-c51df6daaf1a4500bb428cf8a021a58c.vega-embed details summary {\n",
       "    position: relative;\n",
       "  }\n",
       "</style>\n",
       "<div id=\"altair-viz-c51df6daaf1a4500bb428cf8a021a58c\"></div>\n",
       "<script type=\"text/javascript\">\n",
       "  var VEGA_DEBUG = (typeof VEGA_DEBUG == \"undefined\") ? {} : VEGA_DEBUG;\n",
       "  (function(spec, embedOpt){\n",
       "    let outputDiv = document.currentScript.previousElementSibling;\n",
       "    if (outputDiv.id !== \"altair-viz-c51df6daaf1a4500bb428cf8a021a58c\") {\n",
       "      outputDiv = document.getElementById(\"altair-viz-c51df6daaf1a4500bb428cf8a021a58c\");\n",
       "    }\n",
       "    const paths = {\n",
       "      \"vega\": \"https://cdn.jsdelivr.net/npm/vega@5?noext\",\n",
       "      \"vega-lib\": \"https://cdn.jsdelivr.net/npm/vega-lib?noext\",\n",
       "      \"vega-lite\": \"https://cdn.jsdelivr.net/npm/vega-lite@5.17.0?noext\",\n",
       "      \"vega-embed\": \"https://cdn.jsdelivr.net/npm/vega-embed@6?noext\",\n",
       "    };\n",
       "\n",
       "    function maybeLoadScript(lib, version) {\n",
       "      var key = `${lib.replace(\"-\", \"\")}_version`;\n",
       "      return (VEGA_DEBUG[key] == version) ?\n",
       "        Promise.resolve(paths[lib]) :\n",
       "        new Promise(function(resolve, reject) {\n",
       "          var s = document.createElement('script');\n",
       "          document.getElementsByTagName(\"head\")[0].appendChild(s);\n",
       "          s.async = true;\n",
       "          s.onload = () => {\n",
       "            VEGA_DEBUG[key] = version;\n",
       "            return resolve(paths[lib]);\n",
       "          };\n",
       "          s.onerror = () => reject(`Error loading script: ${paths[lib]}`);\n",
       "          s.src = paths[lib];\n",
       "        });\n",
       "    }\n",
       "\n",
       "    function showError(err) {\n",
       "      outputDiv.innerHTML = `<div class=\"error\" style=\"color:red;\">${err}</div>`;\n",
       "      throw err;\n",
       "    }\n",
       "\n",
       "    function displayChart(vegaEmbed) {\n",
       "      vegaEmbed(outputDiv, spec, embedOpt)\n",
       "        .catch(err => showError(`Javascript Error: ${err.message}<br>This usually means there's a typo in your chart specification. See the javascript console for the full traceback.`));\n",
       "    }\n",
       "\n",
       "    if(typeof define === \"function\" && define.amd) {\n",
       "      requirejs.config({paths});\n",
       "      require([\"vega-embed\"], displayChart, err => showError(`Error loading script: ${err.message}`));\n",
       "    } else {\n",
       "      maybeLoadScript(\"vega\", \"5\")\n",
       "        .then(() => maybeLoadScript(\"vega-lite\", \"5.17.0\"))\n",
       "        .then(() => maybeLoadScript(\"vega-embed\", \"6\"))\n",
       "        .catch(showError)\n",
       "        .then(() => displayChart(vegaEmbed));\n",
       "    }\n",
       "  })({\"config\": {\"view\": {\"continuousWidth\": 300, \"continuousHeight\": 300}}, \"data\": {\"name\": \"data-1cd01dd512da71ba26ba9bbb419a7281\"}, \"facet\": {\"field\": \"month\", \"header\": {\"labelAngle\": 0, \"labelFontSize\": 20, \"labelFontWeight\": \"bold\"}, \"sort\": [\"Jan\", \"Feb\", \"Mar\", \"Apr\", \"May\", \"Jun\", \"Jul\", \"Aug\", \"Sep\", \"Oct\", \"Nov\", \"Dec\"], \"title\": \"Month\", \"type\": \"nominal\"}, \"spec\": {\"mark\": {\"type\": \"bar\"}, \"encoding\": {\"color\": {\"field\": \"year\", \"scale\": {\"scheme\": \"bluepurple\"}, \"type\": \"nominal\"}, \"tooltip\": [{\"field\": \"year\", \"title\": \"Year\", \"type\": \"nominal\"}, {\"field\": \"month\", \"title\": \"Month\", \"type\": \"nominal\"}, {\"field\": \"count\", \"title\": \"Count\", \"type\": \"quantitative\"}], \"x\": {\"axis\": {\"labelAngle\": 0}, \"field\": \"year\", \"title\": \"Year\", \"type\": \"nominal\"}, \"y\": {\"field\": \"count\", \"title\": \"Number of Issues\", \"type\": \"quantitative\"}}, \"height\": 300, \"title\": \"Number of Issues Per Month and Year\", \"width\": 150}, \"columns\": 4, \"resolve\": {\"scale\": {\"x\": \"independent\"}}, \"$schema\": \"https://vega.github.io/schema/vega-lite/v5.17.0.json\", \"datasets\": {\"data-1cd01dd512da71ba26ba9bbb419a7281\": [{\"count\": 1, \"year\": 2019, \"month\": \"Mar\", \"month_cat\": \"Mar\"}, {\"count\": 0, \"year\": 2019, \"month\": \"Apr\", \"month_cat\": \"Apr\"}, {\"count\": 6, \"year\": 2019, \"month\": \"May\", \"month_cat\": \"May\"}, {\"count\": 0, \"year\": 2019, \"month\": \"Jun\", \"month_cat\": \"Jun\"}, {\"count\": 0, \"year\": 2019, \"month\": \"Jul\", \"month_cat\": \"Jul\"}, {\"count\": 2, \"year\": 2019, \"month\": \"Aug\", \"month_cat\": \"Aug\"}, {\"count\": 0, \"year\": 2019, \"month\": \"Sep\", \"month_cat\": \"Sep\"}, {\"count\": 0, \"year\": 2019, \"month\": \"Oct\", \"month_cat\": \"Oct\"}, {\"count\": 2, \"year\": 2019, \"month\": \"Nov\", \"month_cat\": \"Nov\"}, {\"count\": 2, \"year\": 2019, \"month\": \"Dec\", \"month_cat\": \"Dec\"}, {\"count\": 2, \"year\": 2020, \"month\": \"Jan\", \"month_cat\": \"Jan\"}, {\"count\": 1, \"year\": 2020, \"month\": \"Feb\", \"month_cat\": \"Feb\"}, {\"count\": 2, \"year\": 2020, \"month\": \"Mar\", \"month_cat\": \"Mar\"}, {\"count\": 0, \"year\": 2020, \"month\": \"Apr\", \"month_cat\": \"Apr\"}, {\"count\": 1, \"year\": 2020, \"month\": \"May\", \"month_cat\": \"May\"}, {\"count\": 0, \"year\": 2020, \"month\": \"Jun\", \"month_cat\": \"Jun\"}, {\"count\": 2, \"year\": 2020, \"month\": \"Jul\", \"month_cat\": \"Jul\"}, {\"count\": 0, \"year\": 2020, \"month\": \"Aug\", \"month_cat\": \"Aug\"}, {\"count\": 0, \"year\": 2020, \"month\": \"Sep\", \"month_cat\": \"Sep\"}, {\"count\": 1, \"year\": 2020, \"month\": \"Oct\", \"month_cat\": \"Oct\"}, {\"count\": 1, \"year\": 2020, \"month\": \"Nov\", \"month_cat\": \"Nov\"}, {\"count\": 1, \"year\": 2020, \"month\": \"Dec\", \"month_cat\": \"Dec\"}, {\"count\": 1, \"year\": 2021, \"month\": \"Jan\", \"month_cat\": \"Jan\"}, {\"count\": 0, \"year\": 2021, \"month\": \"Feb\", \"month_cat\": \"Feb\"}, {\"count\": 5, \"year\": 2021, \"month\": \"Mar\", \"month_cat\": \"Mar\"}, {\"count\": 1, \"year\": 2021, \"month\": \"Apr\", \"month_cat\": \"Apr\"}, {\"count\": 1, \"year\": 2021, \"month\": \"May\", \"month_cat\": \"May\"}, {\"count\": 1, \"year\": 2021, \"month\": \"Jun\", \"month_cat\": \"Jun\"}, {\"count\": 2, \"year\": 2021, \"month\": \"Jul\", \"month_cat\": \"Jul\"}, {\"count\": 1, \"year\": 2021, \"month\": \"Aug\", \"month_cat\": \"Aug\"}, {\"count\": 1, \"year\": 2021, \"month\": \"Sep\", \"month_cat\": \"Sep\"}, {\"count\": 0, \"year\": 2021, \"month\": \"Oct\", \"month_cat\": \"Oct\"}, {\"count\": 3, \"year\": 2021, \"month\": \"Nov\", \"month_cat\": \"Nov\"}, {\"count\": 1, \"year\": 2021, \"month\": \"Dec\", \"month_cat\": \"Dec\"}, {\"count\": 0, \"year\": 2022, \"month\": \"Jan\", \"month_cat\": \"Jan\"}, {\"count\": 1, \"year\": 2022, \"month\": \"Feb\", \"month_cat\": \"Feb\"}, {\"count\": 0, \"year\": 2022, \"month\": \"Mar\", \"month_cat\": \"Mar\"}, {\"count\": 1, \"year\": 2022, \"month\": \"Apr\", \"month_cat\": \"Apr\"}, {\"count\": 0, \"year\": 2022, \"month\": \"May\", \"month_cat\": \"May\"}, {\"count\": 1, \"year\": 2022, \"month\": \"Jun\", \"month_cat\": \"Jun\"}, {\"count\": 0, \"year\": 2022, \"month\": \"Jul\", \"month_cat\": \"Jul\"}, {\"count\": 0, \"year\": 2022, \"month\": \"Aug\", \"month_cat\": \"Aug\"}, {\"count\": 4, \"year\": 2022, \"month\": \"Sep\", \"month_cat\": \"Sep\"}, {\"count\": 0, \"year\": 2022, \"month\": \"Oct\", \"month_cat\": \"Oct\"}, {\"count\": 0, \"year\": 2022, \"month\": \"Nov\", \"month_cat\": \"Nov\"}, {\"count\": 2, \"year\": 2022, \"month\": \"Dec\", \"month_cat\": \"Dec\"}, {\"count\": 3, \"year\": 2023, \"month\": \"Jan\", \"month_cat\": \"Jan\"}, {\"count\": 3, \"year\": 2023, \"month\": \"Feb\", \"month_cat\": \"Feb\"}, {\"count\": 4, \"year\": 2023, \"month\": \"Mar\", \"month_cat\": \"Mar\"}, {\"count\": 4, \"year\": 2023, \"month\": \"Apr\", \"month_cat\": \"Apr\"}, {\"count\": 3, \"year\": 2023, \"month\": \"May\", \"month_cat\": \"May\"}, {\"count\": 2, \"year\": 2023, \"month\": \"Jun\", \"month_cat\": \"Jun\"}, {\"count\": 2, \"year\": 2023, \"month\": \"Jul\", \"month_cat\": \"Jul\"}, {\"count\": 5, \"year\": 2023, \"month\": \"Aug\", \"month_cat\": \"Aug\"}, {\"count\": 6, \"year\": 2023, \"month\": \"Sep\", \"month_cat\": \"Sep\"}, {\"count\": 8, \"year\": 2023, \"month\": \"Oct\", \"month_cat\": \"Oct\"}, {\"count\": 3, \"year\": 2023, \"month\": \"Nov\", \"month_cat\": \"Nov\"}, {\"count\": 2, \"year\": 2023, \"month\": \"Dec\", \"month_cat\": \"Dec\"}, {\"count\": 4, \"year\": 2024, \"month\": \"Jan\", \"month_cat\": \"Jan\"}, {\"count\": 4, \"year\": 2024, \"month\": \"Feb\", \"month_cat\": \"Feb\"}, {\"count\": 5, \"year\": 2024, \"month\": \"Mar\", \"month_cat\": \"Mar\"}, {\"count\": 6, \"year\": 2024, \"month\": \"Apr\", \"month_cat\": \"Apr\"}, {\"count\": 9, \"year\": 2024, \"month\": \"May\", \"month_cat\": \"May\"}, {\"count\": 4, \"year\": 2024, \"month\": \"Jun\", \"month_cat\": \"Jun\"}]}}, {\"mode\": \"vega-lite\"});\n",
       "</script>"
      ],
      "text/plain": [
       "alt.FacetChart(...)"
      ]
     },
     "metadata": {},
     "output_type": "display_data"
    }
   ],
   "source": [
    "# Create an Altair bar plot with a grid layout where each facet represents a month\n",
    "chart = (\n",
    "    alt.Chart(month_year_counts)\n",
    "    .mark_bar()\n",
    "    .encode(\n",
    "        x=alt.X(\"year:N\", title=\"Year\", axis=alt.Axis(labelAngle=0)),\n",
    "        y=alt.Y(\"count:Q\", title=\"Number of Issues\"),\n",
    "        color=alt.Color(\"year:N\", scale=alt.Scale(scheme=\"bluepurple\")),\n",
    "        tooltip=[\n",
    "            alt.Tooltip(\"year:N\", title=\"Year\"),\n",
    "            alt.Tooltip(\"month:N\", title=\"Month\"),\n",
    "            alt.Tooltip(\"count:Q\", title=\"Count\"),\n",
    "        ],\n",
    "    )\n",
    "    .properties(width=150, height=300, title=\"Number of Issues Per Month and Year\")\n",
    "    .facet(\n",
    "        facet=alt.Facet(\n",
    "            \"month:N\",\n",
    "            title=\"Month\",\n",
    "            sort=[\n",
    "                \"Jan\",\n",
    "                \"Feb\",\n",
    "                \"Mar\",\n",
    "                \"Apr\",\n",
    "                \"May\",\n",
    "                \"Jun\",\n",
    "                \"Jul\",\n",
    "                \"Aug\",\n",
    "                \"Sep\",\n",
    "                \"Oct\",\n",
    "                \"Nov\",\n",
    "                \"Dec\",\n",
    "            ],\n",
    "            header=alt.Header(labelAngle=0, labelFontSize=20, labelFontWeight=\"bold\"),\n",
    "        ),\n",
    "        columns=4,\n",
    "    )\n",
    "    .resolve_scale(x=\"independent\")  # Ensure that each facet has its own x-axis scale\n",
    ")\n",
    "\n",
    "chart.show()"
   ]
  },
  {
   "cell_type": "markdown",
   "metadata": {},
   "source": [
    "# Issues opened by month / year"
   ]
  },
  {
   "cell_type": "markdown",
   "metadata": {
    "editable": true,
    "slideshow": {
     "slide_type": ""
    },
    "tags": []
   },
   "source": [
    "# Number of Issues per Month Since 2019\n",
    "\n",
    "Below is a cumulative sum representation of all of our peer review issues submitted to date. You can see that there is a significant uptick of issues submitted that began when we were able to utilize our funding and have a full time staff person (the Executive Director) onboard. "
   ]
  },
  {
   "cell_type": "code",
   "execution_count": 16,
   "metadata": {
    "editable": true,
    "slideshow": {
     "slide_type": ""
    },
    "tags": [
     "remove-input"
    ]
   },
   "outputs": [],
   "source": [
    "# Set 'date_opened' column as index / add month and year cols for grouping\n",
    "monthly_issues = valid_issues.copy()\n",
    "monthly_issues[\"month\"] = monthly_issues[\"date_opened\"].dt.month\n",
    "monthly_issues[\"year\"] = monthly_issues[\"date_opened\"].dt.year\n",
    "# Get monthly counts\n",
    "monthly_issues_index = monthly_issues.copy()\n",
    "\n",
    "monthly_issues_index.set_index(\n",
    "    monthly_issues_index[\"date_opened\"].dt.to_period(\"M\").dt.strftime(\"%Y-%m\"),\n",
    "    inplace=True,\n",
    ")\n",
    "\n",
    "# Group by the new index (month-year) and count the number of issues for each month-year\n",
    "monthly_counts = monthly_issues_index.groupby(level=0).size()"
   ]
  },
  {
   "cell_type": "code",
   "execution_count": 17,
   "metadata": {
    "editable": true,
    "slideshow": {
     "slide_type": ""
    },
    "tags": [
     "remove-input"
    ]
   },
   "outputs": [],
   "source": [
    "# Create a df for every month/year combo in our dataset - this ensures a date for every\n",
    "# month even if some months are missing\n",
    "all_month_years = pd.date_range(\n",
    "    start=monthly_issues.date_opened.min().strftime(\"%Y-%m\"),\n",
    "    end=monthly_issues.date_opened.max().strftime(\"%Y-%m\"),\n",
    "    freq=\"MS\",\n",
    ").to_period(\"M\")"
   ]
  },
  {
   "cell_type": "code",
   "execution_count": 18,
   "metadata": {
    "editable": true,
    "slideshow": {
     "slide_type": ""
    },
    "tags": [
     "remove-input"
    ]
   },
   "outputs": [],
   "source": [
    "final_monthly = monthly_counts.copy()\n",
    "# Ensure the index is of type periodIndex to support reindexing\n",
    "final_monthly.index = pd.PeriodIndex(final_monthly.index, freq=\"M\")\n",
    "final_monthly = final_monthly.reindex(all_month_years, fill_value=0).to_frame(\n",
    "    name=\"issue_count\"\n",
    ")\n",
    "\n",
    "# Calculate cumulative sum of issue count\n",
    "final_monthly[\"cumulative_count\"] = final_monthly[\"issue_count\"].cumsum()\n",
    "final_monthly.reset_index(inplace=True, names=\"date\")\n",
    "final_monthly[\"date\"] = final_monthly[\"date\"].dt.to_timestamp()"
   ]
  },
  {
   "cell_type": "code",
   "execution_count": 19,
   "metadata": {
    "editable": true,
    "slideshow": {
     "slide_type": ""
    },
    "tags": [
     "remove-input"
    ]
   },
   "outputs": [
    {
     "data": {
      "text/html": [
       "\n",
       "<style>\n",
       "  #altair-viz-e7262e5541904631895b03a5330ca816.vega-embed {\n",
       "    width: 100%;\n",
       "    display: flex;\n",
       "  }\n",
       "\n",
       "  #altair-viz-e7262e5541904631895b03a5330ca816.vega-embed details,\n",
       "  #altair-viz-e7262e5541904631895b03a5330ca816.vega-embed details summary {\n",
       "    position: relative;\n",
       "  }\n",
       "</style>\n",
       "<div id=\"altair-viz-e7262e5541904631895b03a5330ca816\"></div>\n",
       "<script type=\"text/javascript\">\n",
       "  var VEGA_DEBUG = (typeof VEGA_DEBUG == \"undefined\") ? {} : VEGA_DEBUG;\n",
       "  (function(spec, embedOpt){\n",
       "    let outputDiv = document.currentScript.previousElementSibling;\n",
       "    if (outputDiv.id !== \"altair-viz-e7262e5541904631895b03a5330ca816\") {\n",
       "      outputDiv = document.getElementById(\"altair-viz-e7262e5541904631895b03a5330ca816\");\n",
       "    }\n",
       "    const paths = {\n",
       "      \"vega\": \"https://cdn.jsdelivr.net/npm/vega@5?noext\",\n",
       "      \"vega-lib\": \"https://cdn.jsdelivr.net/npm/vega-lib?noext\",\n",
       "      \"vega-lite\": \"https://cdn.jsdelivr.net/npm/vega-lite@5.17.0?noext\",\n",
       "      \"vega-embed\": \"https://cdn.jsdelivr.net/npm/vega-embed@6?noext\",\n",
       "    };\n",
       "\n",
       "    function maybeLoadScript(lib, version) {\n",
       "      var key = `${lib.replace(\"-\", \"\")}_version`;\n",
       "      return (VEGA_DEBUG[key] == version) ?\n",
       "        Promise.resolve(paths[lib]) :\n",
       "        new Promise(function(resolve, reject) {\n",
       "          var s = document.createElement('script');\n",
       "          document.getElementsByTagName(\"head\")[0].appendChild(s);\n",
       "          s.async = true;\n",
       "          s.onload = () => {\n",
       "            VEGA_DEBUG[key] = version;\n",
       "            return resolve(paths[lib]);\n",
       "          };\n",
       "          s.onerror = () => reject(`Error loading script: ${paths[lib]}`);\n",
       "          s.src = paths[lib];\n",
       "        });\n",
       "    }\n",
       "\n",
       "    function showError(err) {\n",
       "      outputDiv.innerHTML = `<div class=\"error\" style=\"color:red;\">${err}</div>`;\n",
       "      throw err;\n",
       "    }\n",
       "\n",
       "    function displayChart(vegaEmbed) {\n",
       "      vegaEmbed(outputDiv, spec, embedOpt)\n",
       "        .catch(err => showError(`Javascript Error: ${err.message}<br>This usually means there's a typo in your chart specification. See the javascript console for the full traceback.`));\n",
       "    }\n",
       "\n",
       "    if(typeof define === \"function\" && define.amd) {\n",
       "      requirejs.config({paths});\n",
       "      require([\"vega-embed\"], displayChart, err => showError(`Error loading script: ${err.message}`));\n",
       "    } else {\n",
       "      maybeLoadScript(\"vega\", \"5\")\n",
       "        .then(() => maybeLoadScript(\"vega-lite\", \"5.17.0\"))\n",
       "        .then(() => maybeLoadScript(\"vega-embed\", \"6\"))\n",
       "        .catch(showError)\n",
       "        .then(() => displayChart(vegaEmbed));\n",
       "    }\n",
       "  })({\"config\": {\"view\": {\"continuousWidth\": 300, \"continuousHeight\": 300}}, \"data\": {\"name\": \"data-aada5dc5858fc2491228d44c6cebdeea\"}, \"mark\": {\"type\": \"line\", \"color\": \"purple\", \"strokeWidth\": 8}, \"encoding\": {\"tooltip\": [{\"field\": \"date\", \"title\": \"Month\", \"type\": \"temporal\"}, {\"field\": \"cumulative_count\", \"title\": \"Number of Issues\", \"type\": \"quantitative\"}], \"x\": {\"axis\": {\"format\": \"%b-%Y\", \"labelFontSize\": 14, \"tickCount\": \"year\", \"title\": \"Month\", \"titleFontSize\": 18}, \"field\": \"date\", \"type\": \"temporal\"}, \"y\": {\"axis\": {\"labelFontSize\": 14, \"tickMinStep\": 50, \"title\": \"Number of Issues\", \"titleFontSize\": 18}, \"field\": \"cumulative_count\", \"type\": \"quantitative\"}}, \"height\": 400, \"title\": {\"text\": \"pyOpenSci Software Review Issues: Cumulative Issues Over Time\", \"anchor\": \"start\", \"fontSize\": 25, \"offset\": 20}, \"width\": 600, \"$schema\": \"https://vega.github.io/schema/vega-lite/v5.17.0.json\", \"datasets\": {\"data-aada5dc5858fc2491228d44c6cebdeea\": [{\"date\": \"2019-03-01T00:00:00\", \"issue_count\": 1, \"cumulative_count\": 1}, {\"date\": \"2019-04-01T00:00:00\", \"issue_count\": 0, \"cumulative_count\": 1}, {\"date\": \"2019-05-01T00:00:00\", \"issue_count\": 6, \"cumulative_count\": 7}, {\"date\": \"2019-06-01T00:00:00\", \"issue_count\": 0, \"cumulative_count\": 7}, {\"date\": \"2019-07-01T00:00:00\", \"issue_count\": 0, \"cumulative_count\": 7}, {\"date\": \"2019-08-01T00:00:00\", \"issue_count\": 2, \"cumulative_count\": 9}, {\"date\": \"2019-09-01T00:00:00\", \"issue_count\": 0, \"cumulative_count\": 9}, {\"date\": \"2019-10-01T00:00:00\", \"issue_count\": 0, \"cumulative_count\": 9}, {\"date\": \"2019-11-01T00:00:00\", \"issue_count\": 2, \"cumulative_count\": 11}, {\"date\": \"2019-12-01T00:00:00\", \"issue_count\": 2, \"cumulative_count\": 13}, {\"date\": \"2020-01-01T00:00:00\", \"issue_count\": 2, \"cumulative_count\": 15}, {\"date\": \"2020-02-01T00:00:00\", \"issue_count\": 1, \"cumulative_count\": 16}, {\"date\": \"2020-03-01T00:00:00\", \"issue_count\": 2, \"cumulative_count\": 18}, {\"date\": \"2020-04-01T00:00:00\", \"issue_count\": 0, \"cumulative_count\": 18}, {\"date\": \"2020-05-01T00:00:00\", \"issue_count\": 1, \"cumulative_count\": 19}, {\"date\": \"2020-06-01T00:00:00\", \"issue_count\": 0, \"cumulative_count\": 19}, {\"date\": \"2020-07-01T00:00:00\", \"issue_count\": 2, \"cumulative_count\": 21}, {\"date\": \"2020-08-01T00:00:00\", \"issue_count\": 0, \"cumulative_count\": 21}, {\"date\": \"2020-09-01T00:00:00\", \"issue_count\": 0, \"cumulative_count\": 21}, {\"date\": \"2020-10-01T00:00:00\", \"issue_count\": 1, \"cumulative_count\": 22}, {\"date\": \"2020-11-01T00:00:00\", \"issue_count\": 1, \"cumulative_count\": 23}, {\"date\": \"2020-12-01T00:00:00\", \"issue_count\": 1, \"cumulative_count\": 24}, {\"date\": \"2021-01-01T00:00:00\", \"issue_count\": 1, \"cumulative_count\": 25}, {\"date\": \"2021-02-01T00:00:00\", \"issue_count\": 0, \"cumulative_count\": 25}, {\"date\": \"2021-03-01T00:00:00\", \"issue_count\": 5, \"cumulative_count\": 30}, {\"date\": \"2021-04-01T00:00:00\", \"issue_count\": 1, \"cumulative_count\": 31}, {\"date\": \"2021-05-01T00:00:00\", \"issue_count\": 1, \"cumulative_count\": 32}, {\"date\": \"2021-06-01T00:00:00\", \"issue_count\": 1, \"cumulative_count\": 33}, {\"date\": \"2021-07-01T00:00:00\", \"issue_count\": 2, \"cumulative_count\": 35}, {\"date\": \"2021-08-01T00:00:00\", \"issue_count\": 1, \"cumulative_count\": 36}, {\"date\": \"2021-09-01T00:00:00\", \"issue_count\": 1, \"cumulative_count\": 37}, {\"date\": \"2021-10-01T00:00:00\", \"issue_count\": 0, \"cumulative_count\": 37}, {\"date\": \"2021-11-01T00:00:00\", \"issue_count\": 3, \"cumulative_count\": 40}, {\"date\": \"2021-12-01T00:00:00\", \"issue_count\": 1, \"cumulative_count\": 41}, {\"date\": \"2022-01-01T00:00:00\", \"issue_count\": 0, \"cumulative_count\": 41}, {\"date\": \"2022-02-01T00:00:00\", \"issue_count\": 1, \"cumulative_count\": 42}, {\"date\": \"2022-03-01T00:00:00\", \"issue_count\": 0, \"cumulative_count\": 42}, {\"date\": \"2022-04-01T00:00:00\", \"issue_count\": 1, \"cumulative_count\": 43}, {\"date\": \"2022-05-01T00:00:00\", \"issue_count\": 0, \"cumulative_count\": 43}, {\"date\": \"2022-06-01T00:00:00\", \"issue_count\": 1, \"cumulative_count\": 44}, {\"date\": \"2022-07-01T00:00:00\", \"issue_count\": 0, \"cumulative_count\": 44}, {\"date\": \"2022-08-01T00:00:00\", \"issue_count\": 0, \"cumulative_count\": 44}, {\"date\": \"2022-09-01T00:00:00\", \"issue_count\": 4, \"cumulative_count\": 48}, {\"date\": \"2022-10-01T00:00:00\", \"issue_count\": 0, \"cumulative_count\": 48}, {\"date\": \"2022-11-01T00:00:00\", \"issue_count\": 0, \"cumulative_count\": 48}, {\"date\": \"2022-12-01T00:00:00\", \"issue_count\": 2, \"cumulative_count\": 50}, {\"date\": \"2023-01-01T00:00:00\", \"issue_count\": 3, \"cumulative_count\": 53}, {\"date\": \"2023-02-01T00:00:00\", \"issue_count\": 3, \"cumulative_count\": 56}, {\"date\": \"2023-03-01T00:00:00\", \"issue_count\": 4, \"cumulative_count\": 60}, {\"date\": \"2023-04-01T00:00:00\", \"issue_count\": 4, \"cumulative_count\": 64}, {\"date\": \"2023-05-01T00:00:00\", \"issue_count\": 3, \"cumulative_count\": 67}, {\"date\": \"2023-06-01T00:00:00\", \"issue_count\": 2, \"cumulative_count\": 69}, {\"date\": \"2023-07-01T00:00:00\", \"issue_count\": 2, \"cumulative_count\": 71}, {\"date\": \"2023-08-01T00:00:00\", \"issue_count\": 5, \"cumulative_count\": 76}, {\"date\": \"2023-09-01T00:00:00\", \"issue_count\": 6, \"cumulative_count\": 82}, {\"date\": \"2023-10-01T00:00:00\", \"issue_count\": 8, \"cumulative_count\": 90}, {\"date\": \"2023-11-01T00:00:00\", \"issue_count\": 3, \"cumulative_count\": 93}, {\"date\": \"2023-12-01T00:00:00\", \"issue_count\": 2, \"cumulative_count\": 95}, {\"date\": \"2024-01-01T00:00:00\", \"issue_count\": 4, \"cumulative_count\": 99}, {\"date\": \"2024-02-01T00:00:00\", \"issue_count\": 4, \"cumulative_count\": 103}, {\"date\": \"2024-03-01T00:00:00\", \"issue_count\": 5, \"cumulative_count\": 108}, {\"date\": \"2024-04-01T00:00:00\", \"issue_count\": 6, \"cumulative_count\": 114}, {\"date\": \"2024-05-01T00:00:00\", \"issue_count\": 9, \"cumulative_count\": 123}, {\"date\": \"2024-06-01T00:00:00\", \"issue_count\": 4, \"cumulative_count\": 127}]}}, {\"mode\": \"vega-lite\"});\n",
       "</script>"
      ],
      "text/plain": [
       "alt.Chart(...)"
      ]
     },
     "metadata": {},
     "output_type": "display_data"
    }
   ],
   "source": [
    "# Create an Altair line plot\n",
    "chart = (\n",
    "    alt.Chart(final_monthly)\n",
    "    .mark_line(color=\"purple\", strokeWidth=8)\n",
    "    .encode(\n",
    "        x=alt.X(\n",
    "            \"date:T\",\n",
    "            axis=alt.Axis(\n",
    "                title=\"Month\",\n",
    "                titleFontSize=18,\n",
    "                labelFontSize=14,\n",
    "                format=\"%b-%Y\",\n",
    "                tickCount=\"year\",\n",
    "            ),\n",
    "        ),\n",
    "        y=alt.Y(\n",
    "            \"cumulative_count:Q\",\n",
    "            axis=alt.Axis(\n",
    "                title=\"Number of Issues\",\n",
    "                titleFontSize=18,\n",
    "                labelFontSize=14,\n",
    "                tickMinStep=50,\n",
    "            ),\n",
    "        ),\n",
    "        tooltip=[\n",
    "            alt.Tooltip(\"date:T\", title=\"Month\"),\n",
    "            alt.Tooltip(\"cumulative_count:Q\", title=\"Number of Issues\"),\n",
    "        ],\n",
    "    )\n",
    "    .properties(\n",
    "        title=alt.TitleParams(\n",
    "            text=\"pyOpenSci Software Review Issues: Cumulative Issues Over Time\",\n",
    "            fontSize=25,\n",
    "            anchor=\"start\",\n",
    "            offset=20,\n",
    "        ),\n",
    "        width=600,\n",
    "        height=400,\n",
    "    )\n",
    ")\n",
    "\n",
    "# Show the chart\n",
    "chart.show()"
   ]
  },
  {
   "cell_type": "code",
   "execution_count": null,
   "metadata": {
    "editable": true,
    "slideshow": {
     "slide_type": ""
    },
    "tags": []
   },
   "outputs": [],
   "source": []
  }
 ],
 "metadata": {
  "kernelspec": {
   "display_name": "Python 3 (ipykernel)",
   "language": "python",
   "name": "python3"
  },
  "language_info": {
   "codemirror_mode": {
    "name": "ipython",
    "version": 3
   },
   "file_extension": ".py",
   "mimetype": "text/x-python",
   "name": "python",
   "nbconvert_exporter": "python",
   "pygments_lexer": "ipython3",
   "version": "3.11.9"
  },
  "vscode": {
   "interpreter": {
    "hash": "d7b89e158b719c02a21186c9646700ecf5a8cc5b1b6f738df9b6ffa75e5e74e4"
   }
  }
 },
 "nbformat": 4,
 "nbformat_minor": 4
}
