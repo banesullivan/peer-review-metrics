{
 "cells": [
  {
   "cell_type": "markdown",
   "metadata": {
    "editable": true,
    "slideshow": {
     "slide_type": ""
    },
    "tags": []
   },
   "source": [
    "---\n",
    "title: pyOpenSci Current Software Review Stats\n",
    "subtitle: pyOpenSci Peer Review Summary Stats\n",
    "author:\n",
    "  - name: Leah Wasser\n",
    "    affiliations: pyOpenSci\n",
    "    orcid: 0000-0002-7859-8394\n",
    "    email: leah@pyopensci.org\n",
    "license:\n",
    "  code: MIT\n",
    "date: 2024/06/20\n",
    "---\n",
    "\n",
    "\n",
    "* https://github.com/ryantam626/jupyterlab_code_formatter\n",
    "\n",
    "This is a workflow that colates all GitHub issues associated with our reviews. "
   ]
  },
  {
   "cell_type": "markdown",
   "metadata": {
    "editable": true,
    "slideshow": {
     "slide_type": ""
    },
    "tags": []
   },
   "source": [
    "Questions i have\n",
    "\n",
    "* How to add figure captions and alt text\n",
    "* "
   ]
  },
  {
   "cell_type": "code",
   "execution_count": 1,
   "metadata": {
    "editable": true,
    "jupyter": {
     "source_hidden": true
    },
    "slideshow": {
     "slide_type": ""
    },
    "tags": [
     "remove-input"
    ]
   },
   "outputs": [],
   "source": [
    "\n",
    "from datetime import datetime\n",
    "\n",
    "import altair as alt\n",
    "import pandas as pd\n",
    "\n",
    "from pyosmeta import ProcessIssues\n",
    "from pyosmeta.github_api import GitHubAPI"
   ]
  },
  {
   "cell_type": "code",
   "execution_count": 2,
   "metadata": {
    "editable": true,
    "slideshow": {
     "slide_type": ""
    },
    "tags": [
     "remove-input"
    ]
   },
   "outputs": [],
   "source": [
    "def parse_single_issue(issue) -> dict:\n",
    "    \"\"\"\n",
    "    Parse a single issue from the GitHub API response.\n",
    "\n",
    "    Parameters\n",
    "    ----------\n",
    "    issue : dict\n",
    "        Dictionary containing information about a single issue.\n",
    "\n",
    "    Returns\n",
    "    -------\n",
    "    dict\n",
    "        Dictionary containing parsed information about the issue.\n",
    "    \"\"\"\n",
    "    parsed_issue = {}\n",
    "\n",
    "    # Extract labels\n",
    "    parsed_issue[\"labels\"] = [label[\"name\"] for label in issue.get(\"labels\", [])]\n",
    "\n",
    "    # Extract header text (title of the issue)\n",
    "    parsed_issue[\"header_text\"] = issue.get(\"title\", \"\")\n",
    "\n",
    "    # Extract date opened\n",
    "    parsed_issue[\"date_opened\"] = datetime.strptime(\n",
    "        issue.get(\"created_at\"), \"%Y-%m-%dT%H:%M:%SZ\"\n",
    "    )\n",
    "\n",
    "    # Extract date closed (if available)\n",
    "    if issue.get(\"closed_at\"):\n",
    "        parsed_issue[\"date_closed\"] = datetime.strptime(\n",
    "            issue.get(\"closed_at\"), \"%Y-%m-%dT%H:%M:%SZ\"\n",
    "        )\n",
    "        # Calculate total time issue was open\n",
    "        time_open = parsed_issue[\"date_closed\"] - parsed_issue[\"date_opened\"]\n",
    "        parsed_issue[\"time_open_days\"] = time_open.total_seconds() / (60 * 60 * 24)\n",
    "    else:\n",
    "        parsed_issue[\"date_closed\"] = None\n",
    "        parsed_issue[\"time_open_days\"] = None\n",
    "\n",
    "    return parsed_issue"
   ]
  },
  {
   "cell_type": "code",
   "execution_count": 3,
   "metadata": {
    "editable": true,
    "slideshow": {
     "slide_type": ""
    },
    "tags": [
     "remove-input"
    ]
   },
   "outputs": [
    {
     "data": {
      "text/html": [
       "<div>\n",
       "<style scoped>\n",
       "    .dataframe tbody tr th:only-of-type {\n",
       "        vertical-align: middle;\n",
       "    }\n",
       "\n",
       "    .dataframe tbody tr th {\n",
       "        vertical-align: top;\n",
       "    }\n",
       "\n",
       "    .dataframe thead th {\n",
       "        text-align: right;\n",
       "    }\n",
       "</style>\n",
       "<table border=\"1\" class=\"dataframe\">\n",
       "  <thead>\n",
       "    <tr style=\"text-align: right;\">\n",
       "      <th></th>\n",
       "      <th>labels</th>\n",
       "      <th>header_text</th>\n",
       "      <th>date_opened</th>\n",
       "      <th>date_closed</th>\n",
       "      <th>time_open_days</th>\n",
       "    </tr>\n",
       "  </thead>\n",
       "  <tbody>\n",
       "    <tr>\n",
       "      <th>0</th>\n",
       "      <td>[presubmission]</td>\n",
       "      <td>Presubmission Inquiry for MontePy</td>\n",
       "      <td>2024-06-17 18:07:13</td>\n",
       "      <td>NaT</td>\n",
       "      <td>NaN</td>\n",
       "    </tr>\n",
       "    <tr>\n",
       "      <th>7</th>\n",
       "      <td>[presubmission]</td>\n",
       "      <td>Presubmission inquiry for Stingray</td>\n",
       "      <td>2024-06-01 19:58:40</td>\n",
       "      <td>NaT</td>\n",
       "      <td>NaN</td>\n",
       "    </tr>\n",
       "    <tr>\n",
       "      <th>12</th>\n",
       "      <td>[presubmission]</td>\n",
       "      <td>Presubmission Inquiry for gentropy</td>\n",
       "      <td>2024-05-24 14:41:14</td>\n",
       "      <td>NaT</td>\n",
       "      <td>NaN</td>\n",
       "    </tr>\n",
       "    <tr>\n",
       "      <th>13</th>\n",
       "      <td>[presubmission]</td>\n",
       "      <td>Presubmission Inquiry for GALAssify: A Python ...</td>\n",
       "      <td>2024-05-24 10:37:47</td>\n",
       "      <td>NaT</td>\n",
       "      <td>NaN</td>\n",
       "    </tr>\n",
       "    <tr>\n",
       "      <th>14</th>\n",
       "      <td>[presubmission]</td>\n",
       "      <td>Presubmission Inquiry for property-utils</td>\n",
       "      <td>2024-05-24 10:00:23</td>\n",
       "      <td>2024-05-28 19:20:05</td>\n",
       "      <td>4.388681</td>\n",
       "    </tr>\n",
       "  </tbody>\n",
       "</table>\n",
       "</div>"
      ],
      "text/plain": [
       "             labels                                        header_text  \\\n",
       "0   [presubmission]                  Presubmission Inquiry for MontePy   \n",
       "7   [presubmission]                 Presubmission inquiry for Stingray   \n",
       "12  [presubmission]                 Presubmission Inquiry for gentropy   \n",
       "13  [presubmission]  Presubmission Inquiry for GALAssify: A Python ...   \n",
       "14  [presubmission]           Presubmission Inquiry for property-utils   \n",
       "\n",
       "           date_opened         date_closed  time_open_days  \n",
       "0  2024-06-17 18:07:13                 NaT             NaN  \n",
       "7  2024-06-01 19:58:40                 NaT             NaN  \n",
       "12 2024-05-24 14:41:14                 NaT             NaN  \n",
       "13 2024-05-24 10:37:47                 NaT             NaN  \n",
       "14 2024-05-24 10:00:23 2024-05-28 19:20:05        4.388681  "
      ]
     },
     "execution_count": 3,
     "metadata": {},
     "output_type": "execute_result"
    }
   ],
   "source": [
    "# Get all issues from GitHub software-submission repo, Return df with labels, title, date_opened and closed and total time open in days\n",
    "github_api = GitHubAPI(\n",
    "    org=\"pyopensci\",\n",
    "    repo=\"software-submission\",\n",
    ")\n",
    "\n",
    "process_review = ProcessIssues(github_api)\n",
    "issues = process_review.return_response()\n",
    "\n",
    "all_issues = []\n",
    "for issue in issues:\n",
    "    all_issues.append(parse_single_issue(issue))\n",
    "\n",
    "df = pd.DataFrame(all_issues)\n",
    "\n",
    "# Remove issues that are unlabeled or say help wanted\n",
    "valid_issues = df[\n",
    "    ~(\n",
    "        (df[\"labels\"].apply(len) == 0)\n",
    "        | df[\"labels\"].apply(lambda x: \"help wanted\" in x or \"Help Request\" in x)\n",
    "    )\n",
    "]\n",
    "\n",
    "# Total presubmissions - get the total number of pre-submission inquiries (all time)\n",
    "total_presubmissions = valid_issues[\n",
    "    valid_issues[\"labels\"].apply(lambda x: \"presubmission\" in x)\n",
    "]\n"
   ]
  },
  {
   "cell_type": "markdown",
   "metadata": {},
   "source": [
    "## Currently open presubmissions\n",
    "\n",
    "Can some of these be closed?  \n",
    "\n",
    "* it could be useful to grab the most recent comments on each\n",
    "* It would also be useful to grab the gh usernames of all people involved in the discussion and credit them. So for one i see astropy editors + alex being involved. \n"
   ]
  },
  {
   "cell_type": "code",
   "execution_count": 4,
   "metadata": {},
   "outputs": [
    {
     "data": {
      "text/html": [
       "<div>\n",
       "<style scoped>\n",
       "    .dataframe tbody tr th:only-of-type {\n",
       "        vertical-align: middle;\n",
       "    }\n",
       "\n",
       "    .dataframe tbody tr th {\n",
       "        vertical-align: top;\n",
       "    }\n",
       "\n",
       "    .dataframe thead th {\n",
       "        text-align: right;\n",
       "    }\n",
       "</style>\n",
       "<table border=\"1\" class=\"dataframe\">\n",
       "  <thead>\n",
       "    <tr style=\"text-align: right;\">\n",
       "      <th></th>\n",
       "      <th>labels</th>\n",
       "      <th>header_text</th>\n",
       "      <th>date_opened</th>\n",
       "      <th>date_closed</th>\n",
       "      <th>time_open_days</th>\n",
       "    </tr>\n",
       "  </thead>\n",
       "  <tbody>\n",
       "    <tr>\n",
       "      <th>0</th>\n",
       "      <td>[presubmission]</td>\n",
       "      <td>Presubmission Inquiry for MontePy</td>\n",
       "      <td>2024-06-17 18:07:13</td>\n",
       "      <td>NaT</td>\n",
       "      <td>NaN</td>\n",
       "    </tr>\n",
       "    <tr>\n",
       "      <th>7</th>\n",
       "      <td>[presubmission]</td>\n",
       "      <td>Presubmission inquiry for Stingray</td>\n",
       "      <td>2024-06-01 19:58:40</td>\n",
       "      <td>NaT</td>\n",
       "      <td>NaN</td>\n",
       "    </tr>\n",
       "    <tr>\n",
       "      <th>12</th>\n",
       "      <td>[presubmission]</td>\n",
       "      <td>Presubmission Inquiry for gentropy</td>\n",
       "      <td>2024-05-24 14:41:14</td>\n",
       "      <td>NaT</td>\n",
       "      <td>NaN</td>\n",
       "    </tr>\n",
       "    <tr>\n",
       "      <th>13</th>\n",
       "      <td>[presubmission]</td>\n",
       "      <td>Presubmission Inquiry for GALAssify: A Python ...</td>\n",
       "      <td>2024-05-24 10:37:47</td>\n",
       "      <td>NaT</td>\n",
       "      <td>NaN</td>\n",
       "    </tr>\n",
       "    <tr>\n",
       "      <th>18</th>\n",
       "      <td>[presubmission]</td>\n",
       "      <td>Presubmission Inquiry for Great Tables</td>\n",
       "      <td>2024-05-23 20:25:47</td>\n",
       "      <td>NaT</td>\n",
       "      <td>NaN</td>\n",
       "    </tr>\n",
       "    <tr>\n",
       "      <th>50</th>\n",
       "      <td>[presubmission, ⌛ pending-maintainer-response]</td>\n",
       "      <td>WasteAndMaterialFootprint - presubmission enquiry</td>\n",
       "      <td>2023-12-30 17:23:18</td>\n",
       "      <td>NaT</td>\n",
       "      <td>NaN</td>\n",
       "    </tr>\n",
       "  </tbody>\n",
       "</table>\n",
       "</div>"
      ],
      "text/plain": [
       "                                            labels  \\\n",
       "0                                  [presubmission]   \n",
       "7                                  [presubmission]   \n",
       "12                                 [presubmission]   \n",
       "13                                 [presubmission]   \n",
       "18                                 [presubmission]   \n",
       "50  [presubmission, ⌛ pending-maintainer-response]   \n",
       "\n",
       "                                          header_text         date_opened  \\\n",
       "0                   Presubmission Inquiry for MontePy 2024-06-17 18:07:13   \n",
       "7                  Presubmission inquiry for Stingray 2024-06-01 19:58:40   \n",
       "12                 Presubmission Inquiry for gentropy 2024-05-24 14:41:14   \n",
       "13  Presubmission Inquiry for GALAssify: A Python ... 2024-05-24 10:37:47   \n",
       "18             Presubmission Inquiry for Great Tables 2024-05-23 20:25:47   \n",
       "50  WasteAndMaterialFootprint - presubmission enquiry 2023-12-30 17:23:18   \n",
       "\n",
       "   date_closed  time_open_days  \n",
       "0          NaT             NaN  \n",
       "7          NaT             NaN  \n",
       "12         NaT             NaN  \n",
       "13         NaT             NaN  \n",
       "18         NaT             NaN  \n",
       "50         NaT             NaN  "
      ]
     },
     "execution_count": 4,
     "metadata": {},
     "output_type": "execute_result"
    }
   ],
   "source": [
    "# Get all currently open presubmissions \n",
    "open_presubmissions = total_presubmissions[total_presubmissions['date_closed'].isna()]\n",
    "open_presubmissions"
   ]
  },
  {
   "cell_type": "code",
   "execution_count": 13,
   "metadata": {},
   "outputs": [
    {
     "data": {
      "text/html": [
       "<div>\n",
       "<style scoped>\n",
       "    .dataframe tbody tr th:only-of-type {\n",
       "        vertical-align: middle;\n",
       "    }\n",
       "\n",
       "    .dataframe tbody tr th {\n",
       "        vertical-align: top;\n",
       "    }\n",
       "\n",
       "    .dataframe thead th {\n",
       "        text-align: right;\n",
       "    }\n",
       "</style>\n",
       "<table border=\"1\" class=\"dataframe\">\n",
       "  <thead>\n",
       "    <tr style=\"text-align: right;\">\n",
       "      <th></th>\n",
       "      <th>labels</th>\n",
       "      <th>header_text</th>\n",
       "      <th>date_opened</th>\n",
       "      <th>date_closed</th>\n",
       "      <th>time_open_days</th>\n",
       "    </tr>\n",
       "  </thead>\n",
       "  <tbody>\n",
       "    <tr>\n",
       "      <th>1</th>\n",
       "      <td>[0/pre-review-checks, New Submission!]</td>\n",
       "      <td>Great Tables submission</td>\n",
       "      <td>2024-06-14 19:55:59</td>\n",
       "      <td>NaT</td>\n",
       "      <td>NaN</td>\n",
       "    </tr>\n",
       "    <tr>\n",
       "      <th>2</th>\n",
       "      <td>[0/pre-review-checks, New Submission!]</td>\n",
       "      <td>Stingray Submission</td>\n",
       "      <td>2024-06-14 12:59:47</td>\n",
       "      <td>NaT</td>\n",
       "      <td>NaN</td>\n",
       "    </tr>\n",
       "    <tr>\n",
       "      <th>8</th>\n",
       "      <td>[0/pre-review-checks, New Submission!]</td>\n",
       "      <td>Fluidimage submission</td>\n",
       "      <td>2024-05-30 12:53:48</td>\n",
       "      <td>NaT</td>\n",
       "      <td>NaN</td>\n",
       "    </tr>\n",
       "    <tr>\n",
       "      <th>21</th>\n",
       "      <td>[3/reviewers-assigned, astropy]</td>\n",
       "      <td>astrodata</td>\n",
       "      <td>2024-05-13 23:48:03</td>\n",
       "      <td>NaT</td>\n",
       "      <td>NaN</td>\n",
       "    </tr>\n",
       "    <tr>\n",
       "      <th>22</th>\n",
       "      <td>[1/editor-assigned]</td>\n",
       "      <td>QuadratiK Submission</td>\n",
       "      <td>2024-05-13 21:23:44</td>\n",
       "      <td>NaT</td>\n",
       "      <td>NaN</td>\n",
       "    </tr>\n",
       "  </tbody>\n",
       "</table>\n",
       "</div>"
      ],
      "text/plain": [
       "                                    labels              header_text  \\\n",
       "1   [0/pre-review-checks, New Submission!]  Great Tables submission   \n",
       "2   [0/pre-review-checks, New Submission!]      Stingray Submission   \n",
       "8   [0/pre-review-checks, New Submission!]    Fluidimage submission   \n",
       "21         [3/reviewers-assigned, astropy]                astrodata   \n",
       "22                     [1/editor-assigned]     QuadratiK Submission   \n",
       "\n",
       "           date_opened date_closed  time_open_days  \n",
       "1  2024-06-14 19:55:59         NaT             NaN  \n",
       "2  2024-06-14 12:59:47         NaT             NaN  \n",
       "8  2024-05-30 12:53:48         NaT             NaN  \n",
       "21 2024-05-13 23:48:03         NaT             NaN  \n",
       "22 2024-05-13 21:23:44         NaT             NaN  "
      ]
     },
     "execution_count": 13,
     "metadata": {},
     "output_type": "execute_result"
    }
   ],
   "source": [
    "total_submissions = valid_issues[\n",
    "    valid_issues[\"labels\"].apply(lambda x: \"presubmission\" not in x)\n",
    "]\n",
    "\n",
    "open_submissions = total_submissions[total_submissions['date_closed'].isna()]\n",
    "total_open = len(open_submissions)\n",
    "open_submissions.head()"
   ]
  },
  {
   "cell_type": "markdown",
   "metadata": {
    "user_expressions": [
     {
      "expression": "total_open",
      "result": {
       "data": {
        "text/plain": "25"
       },
       "metadata": {},
       "status": "ok"
      }
     }
    ]
   },
   "source": [
    "## Open Issues \n",
    "\n",
    "Next we explore the currently open issues.\n",
    "\n",
    "pyOpenSci currently has **{eval}`total_open`** total open submissions.\n",
    "\n",
    "* x of these are in active review\n",
    "* x of these are in pre-review\n",
    "* x of these are being submitted to JOSS\n",
    "* x of these have been approvved and are a part of our ecosystem "
   ]
  },
  {
   "cell_type": "code",
   "execution_count": null,
   "metadata": {
    "editable": true,
    "slideshow": {
     "slide_type": ""
    },
    "tags": []
   },
   "outputs": [],
   "source": []
  },
  {
   "cell_type": "code",
   "execution_count": null,
   "metadata": {
    "editable": true,
    "slideshow": {
     "slide_type": ""
    },
    "tags": []
   },
   "outputs": [],
   "source": []
  }
 ],
 "metadata": {
  "kernelspec": {
   "display_name": "Python 3 (ipykernel)",
   "language": "python",
   "name": "python3"
  },
  "language_info": {
   "codemirror_mode": {
    "name": "ipython",
    "version": 3
   },
   "file_extension": ".py",
   "mimetype": "text/x-python",
   "name": "python",
   "nbconvert_exporter": "python",
   "pygments_lexer": "ipython3",
   "version": "3.11.9"
  },
  "vscode": {
   "interpreter": {
    "hash": "d7b89e158b719c02a21186c9646700ecf5a8cc5b1b6f738df9b6ffa75e5e74e4"
   }
  }
 },
 "nbformat": 4,
 "nbformat_minor": 4
}
