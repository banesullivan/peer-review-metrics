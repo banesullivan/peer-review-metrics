{
 "cells": [
  {
   "cell_type": "markdown",
   "metadata": {
    "editable": true,
    "slideshow": {
     "slide_type": ""
    },
    "tags": []
   },
   "source": [
    "---\n",
    "title: pyOpenSci Current Software Review Stats\n",
    "subtitle: pyOpenSci Peer Review Summary Stats\n",
    "author:\n",
    "  - name: Leah Wasser\n",
    "    affiliations: pyOpenSci\n",
    "    orcid: 0000-0002-7859-8394\n",
    "    email: leah@pyopensci.org\n",
    "license:\n",
    "  code: MIT\n",
    "date: 2024/06/20\n",
    "---\n",
    "\n",
    "\n",
    "* https://github.com/ryantam626/jupyterlab_code_formatter\n",
    "\n",
    "This is a workflow that colates all GitHub issues associated with our reviews. "
   ]
  },
  {
   "cell_type": "markdown",
   "metadata": {
    "editable": true,
    "slideshow": {
     "slide_type": ""
    },
    "tags": []
   },
   "source": [
    "Questions i have\n",
    "\n",
    "* How to add figure captions and alt text\n",
    "* "
   ]
  },
  {
   "cell_type": "code",
   "execution_count": 1,
   "metadata": {
    "editable": true,
    "slideshow": {
     "slide_type": ""
    },
    "tags": [
     "remove-input"
    ]
   },
   "outputs": [],
   "source": [
    "from datetime import datetime\n",
    "\n",
    "import altair as alt\n",
    "import pandas as pd\n",
    "\n",
    "from pyosmeta import ProcessIssues\n",
    "from pyosmeta.github_api import GitHubAPI"
   ]
  },
  {
   "cell_type": "code",
   "execution_count": 2,
   "metadata": {
    "editable": true,
    "slideshow": {
     "slide_type": ""
    },
    "tags": [
     "remove-input"
    ]
   },
   "outputs": [],
   "source": [
    "from functions import parse_single_issue"
   ]
  },
  {
   "cell_type": "code",
   "execution_count": 3,
   "metadata": {
    "editable": true,
    "slideshow": {
     "slide_type": ""
    },
    "tags": [
     "remove-input"
    ]
   },
   "outputs": [],
   "source": [
    "# Get all issues from GitHub software-submission repo, Return df with labels, title, date_opened and closed and total time open in days\n",
    "github_api = GitHubAPI(\n",
    "    org=\"pyopensci\",\n",
    "    repo=\"software-submission\",\n",
    ")\n",
    "\n",
    "process_review = ProcessIssues(github_api)\n",
    "issues = process_review.return_response()\n",
    "\n",
    "all_issues = []\n",
    "for issue in issues:\n",
    "    all_issues.append(parse_single_issue(issue))\n",
    "\n",
    "df = pd.DataFrame(all_issues)\n",
    "\n",
    "# Remove issues that are unlabeled or say help wanted\n",
    "valid_issues = df[\n",
    "    ~(\n",
    "        (df[\"labels\"].apply(len) == 0)\n",
    "        | df[\"labels\"].apply(lambda x: \"help wanted\" in x or \"Help Request\" in x)\n",
    "    )\n",
    "]\n",
    "\n",
    "# Total presubmissions - get the total number of pre-submission inquiries (all time)\n",
    "total_presubmissions = valid_issues[\n",
    "    valid_issues[\"labels\"].apply(lambda x: \"presubmission\" in x)\n",
    "]\n"
   ]
  },
  {
   "cell_type": "code",
   "execution_count": 4,
   "metadata": {
    "editable": true,
    "slideshow": {
     "slide_type": ""
    },
    "tags": [
     "remove-input"
    ]
   },
   "outputs": [],
   "source": [
    "# Get all currently open presubmissions \n",
    "open_presubmissions = total_presubmissions[total_presubmissions['date_closed'].isna()]\n",
    "total_open = len(open_presubmissions)"
   ]
  },
  {
   "cell_type": "markdown",
   "metadata": {
    "editable": true,
    "slideshow": {
     "slide_type": ""
    },
    "tags": [],
    "user_expressions": [
     {
      "expression": "total_open",
      "result": {
       "data": {
        "text/plain": "5"
       },
       "metadata": {},
       "status": "ok"
      }
     }
    ]
   },
   "source": [
    "## Currently open software presubmission inquiries\n",
    "\n",
    "Can some of these be closed?  \n",
    "\n",
    "* it could be useful to grab the most recent comments on each\n",
    "* It would also be useful to grab the gh usernames of all people involved in the discussion and credit them. So for one i see astropy editors + alex being involved.\n",
    "\n",
    "There are **{eval}`total_open` presubmission requests** currently open. "
   ]
  },
  {
   "cell_type": "code",
   "execution_count": 5,
   "metadata": {
    "editable": true,
    "slideshow": {
     "slide_type": ""
    },
    "tags": [
     "remove-input"
    ]
   },
   "outputs": [
    {
     "data": {
      "text/html": [
       "<div>\n",
       "<style scoped>\n",
       "    .dataframe tbody tr th:only-of-type {\n",
       "        vertical-align: middle;\n",
       "    }\n",
       "\n",
       "    .dataframe tbody tr th {\n",
       "        vertical-align: top;\n",
       "    }\n",
       "\n",
       "    .dataframe thead th {\n",
       "        text-align: right;\n",
       "    }\n",
       "</style>\n",
       "<table border=\"1\" class=\"dataframe\">\n",
       "  <thead>\n",
       "    <tr style=\"text-align: right;\">\n",
       "      <th></th>\n",
       "      <th>labels</th>\n",
       "      <th>header_text</th>\n",
       "      <th>date_opened</th>\n",
       "      <th>days_open</th>\n",
       "    </tr>\n",
       "  </thead>\n",
       "  <tbody>\n",
       "    <tr>\n",
       "      <th>0</th>\n",
       "      <td>[presubmission]</td>\n",
       "      <td>Solar Data Tools pre-submission inquiry</td>\n",
       "      <td>2024-06-28 23:12:55</td>\n",
       "      <td>-1.0</td>\n",
       "    </tr>\n",
       "    <tr>\n",
       "      <th>1</th>\n",
       "      <td>[presubmission]</td>\n",
       "      <td>Presubmission Inquiry for MontePy</td>\n",
       "      <td>2024-06-17 18:07:13</td>\n",
       "      <td>11.0</td>\n",
       "    </tr>\n",
       "    <tr>\n",
       "      <th>13</th>\n",
       "      <td>[presubmission]</td>\n",
       "      <td>Presubmission Inquiry for gentropy</td>\n",
       "      <td>2024-05-24 14:41:14</td>\n",
       "      <td>35.0</td>\n",
       "    </tr>\n",
       "    <tr>\n",
       "      <th>14</th>\n",
       "      <td>[presubmission]</td>\n",
       "      <td>Presubmission Inquiry for GALAssify: A Python ...</td>\n",
       "      <td>2024-05-24 10:37:47</td>\n",
       "      <td>35.0</td>\n",
       "    </tr>\n",
       "    <tr>\n",
       "      <th>51</th>\n",
       "      <td>[presubmission, ⌛ pending-maintainer-response]</td>\n",
       "      <td>WasteAndMaterialFootprint - presubmission enquiry</td>\n",
       "      <td>2023-12-30 17:23:18</td>\n",
       "      <td>181.0</td>\n",
       "    </tr>\n",
       "  </tbody>\n",
       "</table>\n",
       "</div>"
      ],
      "text/plain": [
       "                                            labels  \\\n",
       "0                                  [presubmission]   \n",
       "1                                  [presubmission]   \n",
       "13                                 [presubmission]   \n",
       "14                                 [presubmission]   \n",
       "51  [presubmission, ⌛ pending-maintainer-response]   \n",
       "\n",
       "                                          header_text         date_opened  \\\n",
       "0             Solar Data Tools pre-submission inquiry 2024-06-28 23:12:55   \n",
       "1                   Presubmission Inquiry for MontePy 2024-06-17 18:07:13   \n",
       "13                 Presubmission Inquiry for gentropy 2024-05-24 14:41:14   \n",
       "14  Presubmission Inquiry for GALAssify: A Python ... 2024-05-24 10:37:47   \n",
       "51  WasteAndMaterialFootprint - presubmission enquiry 2023-12-30 17:23:18   \n",
       "\n",
       "    days_open  \n",
       "0        -1.0  \n",
       "1        11.0  \n",
       "13       35.0  \n",
       "14       35.0  \n",
       "51      181.0  "
      ]
     },
     "execution_count": 5,
     "metadata": {},
     "output_type": "execute_result"
    }
   ],
   "source": [
    "cleaned_open_presubmissions = open_presubmissions.drop(columns=['date_closed'])\n",
    "cleaned_open_presubmissions"
   ]
  },
  {
   "cell_type": "code",
   "execution_count": 6,
   "metadata": {
    "editable": true,
    "slideshow": {
     "slide_type": ""
    },
    "tags": []
   },
   "outputs": [],
   "source": [
    "total_submissions = valid_issues[\n",
    "    valid_issues[\"labels\"].apply(lambda x: \"presubmission\" not in x)\n",
    "]\n",
    "\n",
    "open_submissions = total_submissions[total_submissions['date_closed'].isna()]"
   ]
  },
  {
   "cell_type": "markdown",
   "metadata": {
    "editable": true,
    "slideshow": {
     "slide_type": ""
    },
    "tags": [],
    "user_expressions": [
     {
      "expression": "total_open",
      "result": {
       "data": {
        "text/plain": "5"
       },
       "metadata": {},
       "status": "ok"
      }
     }
    ]
   },
   "source": [
    "## Current open softwrae review submissions \n",
    "\n",
    "Next we explore the currently open issues.\n",
    "\n",
    "pyOpenSci currently has **{eval}`total_open`** total open submissions.\n",
    "\n",
    "* x of these are in active review\n",
    "* x of these are in pre-review\n",
    "* x of these are being submitted to JOSS\n",
    "* x of these have been approvved and are a part of our ecosystem "
   ]
  },
  {
   "cell_type": "code",
   "execution_count": 11,
   "metadata": {
    "editable": true,
    "slideshow": {
     "slide_type": ""
    },
    "tags": []
   },
   "outputs": [
    {
     "data": {
      "text/html": [
       "<div>\n",
       "<style scoped>\n",
       "    .dataframe tbody tr th:only-of-type {\n",
       "        vertical-align: middle;\n",
       "    }\n",
       "\n",
       "    .dataframe tbody tr th {\n",
       "        vertical-align: top;\n",
       "    }\n",
       "\n",
       "    .dataframe thead th {\n",
       "        text-align: right;\n",
       "    }\n",
       "</style>\n",
       "<table border=\"1\" class=\"dataframe\">\n",
       "  <thead>\n",
       "    <tr style=\"text-align: right;\">\n",
       "      <th></th>\n",
       "      <th>labels</th>\n",
       "      <th>header_text</th>\n",
       "      <th>date_opened</th>\n",
       "      <th>days_open</th>\n",
       "    </tr>\n",
       "  </thead>\n",
       "  <tbody>\n",
       "    <tr>\n",
       "      <th>2</th>\n",
       "      <td>[0/seeking-editor]</td>\n",
       "      <td>Great Tables submission</td>\n",
       "      <td>2024-06-14 19:55:59</td>\n",
       "      <td>13.0</td>\n",
       "    </tr>\n",
       "    <tr>\n",
       "      <th>3</th>\n",
       "      <td>[0/pre-review-checks, New Submission!]</td>\n",
       "      <td>Stingray Submission</td>\n",
       "      <td>2024-06-14 12:59:47</td>\n",
       "      <td>14.0</td>\n",
       "    </tr>\n",
       "    <tr>\n",
       "      <th>9</th>\n",
       "      <td>[0/seeking-editor]</td>\n",
       "      <td>Fluidimage submission</td>\n",
       "      <td>2024-05-30 12:53:48</td>\n",
       "      <td>29.0</td>\n",
       "    </tr>\n",
       "    <tr>\n",
       "      <th>22</th>\n",
       "      <td>[3/reviewers-assigned, astropy]</td>\n",
       "      <td>astrodata</td>\n",
       "      <td>2024-05-13 23:48:03</td>\n",
       "      <td>45.0</td>\n",
       "    </tr>\n",
       "    <tr>\n",
       "      <th>23</th>\n",
       "      <td>[1/editor-assigned]</td>\n",
       "      <td>QuadratiK Submission</td>\n",
       "      <td>2024-05-13 21:23:44</td>\n",
       "      <td>45.0</td>\n",
       "    </tr>\n",
       "    <tr>\n",
       "      <th>24</th>\n",
       "      <td>[0/seeking-editor]</td>\n",
       "      <td>PyPartMC</td>\n",
       "      <td>2024-05-03 18:22:59</td>\n",
       "      <td>56.0</td>\n",
       "    </tr>\n",
       "    <tr>\n",
       "      <th>26</th>\n",
       "      <td>[0/pre-review-checks]</td>\n",
       "      <td>Dolphot-LC Software Submission</td>\n",
       "      <td>2024-05-01 02:37:44</td>\n",
       "      <td>58.0</td>\n",
       "    </tr>\n",
       "    <tr>\n",
       "      <th>27</th>\n",
       "      <td>[0/pre-review-checks, New Submission!, on-hold]</td>\n",
       "      <td>Submission for ANDES</td>\n",
       "      <td>2024-04-22 15:24:10</td>\n",
       "      <td>67.0</td>\n",
       "    </tr>\n",
       "    <tr>\n",
       "      <th>28</th>\n",
       "      <td>[0/seeking-editor]</td>\n",
       "      <td>CyNetDiff Submission</td>\n",
       "      <td>2024-04-22 03:28:38</td>\n",
       "      <td>67.0</td>\n",
       "    </tr>\n",
       "    <tr>\n",
       "      <th>29</th>\n",
       "      <td>[1/editor-assigned]</td>\n",
       "      <td>Submission for AMS</td>\n",
       "      <td>2024-04-22 01:37:56</td>\n",
       "      <td>67.0</td>\n",
       "    </tr>\n",
       "    <tr>\n",
       "      <th>30</th>\n",
       "      <td>[2/seeking-reviewers, 1/editor-assigned]</td>\n",
       "      <td>Pooltool Submission</td>\n",
       "      <td>2024-04-15 21:44:43</td>\n",
       "      <td>73.0</td>\n",
       "    </tr>\n",
       "    <tr>\n",
       "      <th>33</th>\n",
       "      <td>[0/pre-review-checks, New Submission!]</td>\n",
       "      <td>CovPlan</td>\n",
       "      <td>2024-03-25 17:06:21</td>\n",
       "      <td>95.0</td>\n",
       "    </tr>\n",
       "    <tr>\n",
       "      <th>39</th>\n",
       "      <td>[6/pyOS-approved, astropy]</td>\n",
       "      <td>Martini</td>\n",
       "      <td>2024-03-06 17:08:29</td>\n",
       "      <td>114.0</td>\n",
       "    </tr>\n",
       "    <tr>\n",
       "      <th>43</th>\n",
       "      <td>[1/editor-assigned]</td>\n",
       "      <td>plot_phylo</td>\n",
       "      <td>2024-02-22 11:55:59</td>\n",
       "      <td>127.0</td>\n",
       "    </tr>\n",
       "    <tr>\n",
       "      <th>44</th>\n",
       "      <td>[2/seeking-reviewers, 1/editor-assigned, astropy]</td>\n",
       "      <td>PetroFit</td>\n",
       "      <td>2024-02-16 22:46:47</td>\n",
       "      <td>132.0</td>\n",
       "    </tr>\n",
       "    <tr>\n",
       "      <th>45</th>\n",
       "      <td>[4/reviews-in-awaiting-changes]</td>\n",
       "      <td>harmonize-wq</td>\n",
       "      <td>2024-02-08 19:43:03</td>\n",
       "      <td>140.0</td>\n",
       "    </tr>\n",
       "    <tr>\n",
       "      <th>46</th>\n",
       "      <td>[1/editor-assigned]</td>\n",
       "      <td>`disdrodb` review</td>\n",
       "      <td>2024-01-18 17:25:28</td>\n",
       "      <td>162.0</td>\n",
       "    </tr>\n",
       "    <tr>\n",
       "      <th>50</th>\n",
       "      <td>[5/awaiting-reviewer-response]</td>\n",
       "      <td>automata</td>\n",
       "      <td>2023-12-31 02:23:34</td>\n",
       "      <td>180.0</td>\n",
       "    </tr>\n",
       "    <tr>\n",
       "      <th>52</th>\n",
       "      <td>[3/reviewers-assigned, ⌛ pending-maintainer-re...</td>\n",
       "      <td>Plenoptic</td>\n",
       "      <td>2023-11-17 20:39:40</td>\n",
       "      <td>223.0</td>\n",
       "    </tr>\n",
       "    <tr>\n",
       "      <th>58</th>\n",
       "      <td>[6/pyOS-approved]</td>\n",
       "      <td>rdata, read R datasets from Python</td>\n",
       "      <td>2023-10-20 08:26:10</td>\n",
       "      <td>252.0</td>\n",
       "    </tr>\n",
       "    <tr>\n",
       "      <th>73</th>\n",
       "      <td>[6/pyOS-approved, 7/under-joss-review]</td>\n",
       "      <td>`sourmash` submission</td>\n",
       "      <td>2023-08-14 21:02:57</td>\n",
       "      <td>318.0</td>\n",
       "    </tr>\n",
       "    <tr>\n",
       "      <th>74</th>\n",
       "      <td>[4/reviews-in-awaiting-changes, ⌛ pending-main...</td>\n",
       "      <td>GemGIS - Spatial Data Processing for Geomodeling</td>\n",
       "      <td>2023-08-08 07:11:59</td>\n",
       "      <td>325.0</td>\n",
       "    </tr>\n",
       "    <tr>\n",
       "      <th>77</th>\n",
       "      <td>[0/pre-review-checks, ⌛ pending-maintainer-res...</td>\n",
       "      <td>PsychoAnalyze</td>\n",
       "      <td>2023-08-04 19:38:38</td>\n",
       "      <td>328.0</td>\n",
       "    </tr>\n",
       "    <tr>\n",
       "      <th>91</th>\n",
       "      <td>[0/pre-review-checks, ⌛ pending-maintainer-res...</td>\n",
       "      <td>climate_indices (drought monitoring, SPI, SPEI...</td>\n",
       "      <td>2023-05-12 19:51:24</td>\n",
       "      <td>412.0</td>\n",
       "    </tr>\n",
       "    <tr>\n",
       "      <th>122</th>\n",
       "      <td>[0/pre-review-checks, on-hold]</td>\n",
       "      <td>Hamilton</td>\n",
       "      <td>2023-02-01 20:37:10</td>\n",
       "      <td>512.0</td>\n",
       "    </tr>\n",
       "  </tbody>\n",
       "</table>\n",
       "</div>"
      ],
      "text/plain": [
       "                                                labels  \\\n",
       "2                                   [0/seeking-editor]   \n",
       "3               [0/pre-review-checks, New Submission!]   \n",
       "9                                   [0/seeking-editor]   \n",
       "22                     [3/reviewers-assigned, astropy]   \n",
       "23                                 [1/editor-assigned]   \n",
       "24                                  [0/seeking-editor]   \n",
       "26                               [0/pre-review-checks]   \n",
       "27     [0/pre-review-checks, New Submission!, on-hold]   \n",
       "28                                  [0/seeking-editor]   \n",
       "29                                 [1/editor-assigned]   \n",
       "30            [2/seeking-reviewers, 1/editor-assigned]   \n",
       "33              [0/pre-review-checks, New Submission!]   \n",
       "39                          [6/pyOS-approved, astropy]   \n",
       "43                                 [1/editor-assigned]   \n",
       "44   [2/seeking-reviewers, 1/editor-assigned, astropy]   \n",
       "45                     [4/reviews-in-awaiting-changes]   \n",
       "46                                 [1/editor-assigned]   \n",
       "50                      [5/awaiting-reviewer-response]   \n",
       "52   [3/reviewers-assigned, ⌛ pending-maintainer-re...   \n",
       "58                                   [6/pyOS-approved]   \n",
       "73              [6/pyOS-approved, 7/under-joss-review]   \n",
       "74   [4/reviews-in-awaiting-changes, ⌛ pending-main...   \n",
       "77   [0/pre-review-checks, ⌛ pending-maintainer-res...   \n",
       "91   [0/pre-review-checks, ⌛ pending-maintainer-res...   \n",
       "122                     [0/pre-review-checks, on-hold]   \n",
       "\n",
       "                                           header_text         date_opened  \\\n",
       "2                              Great Tables submission 2024-06-14 19:55:59   \n",
       "3                                  Stingray Submission 2024-06-14 12:59:47   \n",
       "9                                Fluidimage submission 2024-05-30 12:53:48   \n",
       "22                                           astrodata 2024-05-13 23:48:03   \n",
       "23                                QuadratiK Submission 2024-05-13 21:23:44   \n",
       "24                                            PyPartMC 2024-05-03 18:22:59   \n",
       "26                      Dolphot-LC Software Submission 2024-05-01 02:37:44   \n",
       "27                                Submission for ANDES 2024-04-22 15:24:10   \n",
       "28                                CyNetDiff Submission 2024-04-22 03:28:38   \n",
       "29                                  Submission for AMS 2024-04-22 01:37:56   \n",
       "30                                 Pooltool Submission 2024-04-15 21:44:43   \n",
       "33                                             CovPlan 2024-03-25 17:06:21   \n",
       "39                                             Martini 2024-03-06 17:08:29   \n",
       "43                                          plot_phylo 2024-02-22 11:55:59   \n",
       "44                                            PetroFit 2024-02-16 22:46:47   \n",
       "45                                        harmonize-wq 2024-02-08 19:43:03   \n",
       "46                                   `disdrodb` review 2024-01-18 17:25:28   \n",
       "50                                            automata 2023-12-31 02:23:34   \n",
       "52                                           Plenoptic 2023-11-17 20:39:40   \n",
       "58                  rdata, read R datasets from Python 2023-10-20 08:26:10   \n",
       "73                               `sourmash` submission 2023-08-14 21:02:57   \n",
       "74    GemGIS - Spatial Data Processing for Geomodeling 2023-08-08 07:11:59   \n",
       "77                                       PsychoAnalyze 2023-08-04 19:38:38   \n",
       "91   climate_indices (drought monitoring, SPI, SPEI... 2023-05-12 19:51:24   \n",
       "122                                           Hamilton 2023-02-01 20:37:10   \n",
       "\n",
       "     days_open  \n",
       "2         13.0  \n",
       "3         14.0  \n",
       "9         29.0  \n",
       "22        45.0  \n",
       "23        45.0  \n",
       "24        56.0  \n",
       "26        58.0  \n",
       "27        67.0  \n",
       "28        67.0  \n",
       "29        67.0  \n",
       "30        73.0  \n",
       "33        95.0  \n",
       "39       114.0  \n",
       "43       127.0  \n",
       "44       132.0  \n",
       "45       140.0  \n",
       "46       162.0  \n",
       "50       180.0  \n",
       "52       223.0  \n",
       "58       252.0  \n",
       "73       318.0  \n",
       "74       325.0  \n",
       "77       328.0  \n",
       "91       412.0  \n",
       "122      512.0  "
      ]
     },
     "execution_count": 11,
     "metadata": {},
     "output_type": "execute_result"
    }
   ],
   "source": [
    "final_open_submissions = open_submissions.drop(columns=['date_closed'])\n",
    "final_open_submissions"
   ]
  },
  {
   "cell_type": "code",
   "execution_count": null,
   "metadata": {
    "editable": true,
    "slideshow": {
     "slide_type": ""
    },
    "tags": []
   },
   "outputs": [],
   "source": [
    "# TODO: add editor for each review? \n",
    "# TODO: list all current editors "
   ]
  },
  {
   "cell_type": "code",
   "execution_count": null,
   "metadata": {
    "editable": true,
    "slideshow": {
     "slide_type": ""
    },
    "tags": []
   },
   "outputs": [],
   "source": [
    "# Get all currently closed / approved issues \n",
    "\n",
    "# calculate time that they were in review. "
   ]
  }
 ],
 "metadata": {
  "kernelspec": {
   "display_name": "Python 3 (ipykernel)",
   "language": "python",
   "name": "python3"
  },
  "language_info": {
   "codemirror_mode": {
    "name": "ipython",
    "version": 3
   },
   "file_extension": ".py",
   "mimetype": "text/x-python",
   "name": "python",
   "nbconvert_exporter": "python",
   "pygments_lexer": "ipython3",
   "version": "3.11.9"
  },
  "vscode": {
   "interpreter": {
    "hash": "d7b89e158b719c02a21186c9646700ecf5a8cc5b1b6f738df9b6ffa75e5e74e4"
   }
  }
 },
 "nbformat": 4,
 "nbformat_minor": 4
}
